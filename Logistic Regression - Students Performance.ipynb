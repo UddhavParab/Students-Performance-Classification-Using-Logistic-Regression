{
 "cells": [
  {
   "cell_type": "markdown",
   "id": "702f496a",
   "metadata": {},
   "source": [
    "# Logistic Regression : Factors Affecting the grades of students."
   ]
  },
  {
   "cell_type": "markdown",
   "id": "bbd9fa90",
   "metadata": {},
   "source": [
    "This data provides an insight of some Middle East countries and the factors that are affecting their overall grades."
   ]
  },
  {
   "cell_type": "code",
   "execution_count": 1,
   "id": "bfbe12d3",
   "metadata": {},
   "outputs": [],
   "source": [
    "import os\n",
    "\n",
    "\n",
    "import pandas as pd\n",
    "pd.set_option('display.max_column',None)\n",
    "\n",
    "\n",
    "import warnings\n",
    "warnings.filterwarnings('ignore')\n",
    "\n",
    "\n",
    "import math\n",
    "import numpy as np\n",
    "import matplotlib.pyplot as plt\n",
    "import seaborn as sns\n",
    "from scipy import stats \n",
    "import statsmodels.api as sm\n",
    "import statsmodels.formula.api as smf\n",
    "from statsmodels.formula.api import ols\n",
    "from statsmodels.stats.multicomp import pairwise_tukeyhsd\n",
    "from scipy.stats import chi2, chi2_contingency\n",
    "from statsmodels.stats.multicomp import pairwise_tukeyhsd\n",
    "from scipy.stats import pearsonr\n",
    "\n",
    "\n",
    "import sklearn\n",
    "from sklearn.linear_model import Lasso, LassoCV, Ridge, RidgeCV\n",
    "from sklearn.model_selection import cross_val_predict, train_test_split\n",
    "from statsmodels.stats.outliers_influence import variance_inflation_factor\n",
    "from sklearn.preprocessing import StandardScaler\n",
    "from sklearn.linear_model import SGDRegressor\n",
    "from sklearn.metrics import mean_squared_error\n",
    "from sklearn.linear_model import LogisticRegression\n",
    "from sklearn.metrics import roc_curve, roc_auc_score\n",
    "from sklearn.metrics import confusion_matrix, classification_report\n",
    "from sklearn.utils import resample\n",
    "from sklearn.metrics import confusion_matrix, classification_report\n",
    "from sklearn.feature_selection import RFE\n",
    "from imblearn.over_sampling import SMOTE\n",
    "\n",
    "get_ipython().run_line_magic('matplotlib', 'inline')\n",
    "sns.set(style=\"white\")\n",
    "sns.set(style=\"whitegrid\", color_codes=True)"
   ]
  },
  {
   "cell_type": "code",
   "execution_count": 2,
   "id": "28e9520e",
   "metadata": {},
   "outputs": [
    {
     "data": {
      "text/html": [
       "<div>\n",
       "<style scoped>\n",
       "    .dataframe tbody tr th:only-of-type {\n",
       "        vertical-align: middle;\n",
       "    }\n",
       "\n",
       "    .dataframe tbody tr th {\n",
       "        vertical-align: top;\n",
       "    }\n",
       "\n",
       "    .dataframe thead th {\n",
       "        text-align: right;\n",
       "    }\n",
       "</style>\n",
       "<table border=\"1\" class=\"dataframe\">\n",
       "  <thead>\n",
       "    <tr style=\"text-align: right;\">\n",
       "      <th></th>\n",
       "      <th>gender</th>\n",
       "      <th>NationalITy</th>\n",
       "      <th>PlaceofBirth</th>\n",
       "      <th>StageID</th>\n",
       "      <th>GradeID</th>\n",
       "      <th>SectionID</th>\n",
       "      <th>Topic</th>\n",
       "      <th>Semester</th>\n",
       "      <th>Relation</th>\n",
       "      <th>raisedhands</th>\n",
       "      <th>VisITedResources</th>\n",
       "      <th>AnnouncementsView</th>\n",
       "      <th>Discussion</th>\n",
       "      <th>ParentAnsweringSurvey</th>\n",
       "      <th>ParentschoolSatisfaction</th>\n",
       "      <th>StudentAbsenceDays</th>\n",
       "      <th>Class</th>\n",
       "    </tr>\n",
       "  </thead>\n",
       "  <tbody>\n",
       "    <tr>\n",
       "      <th>0</th>\n",
       "      <td>M</td>\n",
       "      <td>KW</td>\n",
       "      <td>KuwaIT</td>\n",
       "      <td>lowerlevel</td>\n",
       "      <td>G-04</td>\n",
       "      <td>A</td>\n",
       "      <td>IT</td>\n",
       "      <td>F</td>\n",
       "      <td>Father</td>\n",
       "      <td>15</td>\n",
       "      <td>16</td>\n",
       "      <td>2</td>\n",
       "      <td>20</td>\n",
       "      <td>Yes</td>\n",
       "      <td>Good</td>\n",
       "      <td>Under-7</td>\n",
       "      <td>M</td>\n",
       "    </tr>\n",
       "    <tr>\n",
       "      <th>1</th>\n",
       "      <td>M</td>\n",
       "      <td>KW</td>\n",
       "      <td>KuwaIT</td>\n",
       "      <td>lowerlevel</td>\n",
       "      <td>G-04</td>\n",
       "      <td>A</td>\n",
       "      <td>IT</td>\n",
       "      <td>F</td>\n",
       "      <td>Father</td>\n",
       "      <td>20</td>\n",
       "      <td>20</td>\n",
       "      <td>3</td>\n",
       "      <td>25</td>\n",
       "      <td>Yes</td>\n",
       "      <td>Good</td>\n",
       "      <td>Under-7</td>\n",
       "      <td>M</td>\n",
       "    </tr>\n",
       "    <tr>\n",
       "      <th>2</th>\n",
       "      <td>M</td>\n",
       "      <td>KW</td>\n",
       "      <td>KuwaIT</td>\n",
       "      <td>lowerlevel</td>\n",
       "      <td>G-04</td>\n",
       "      <td>A</td>\n",
       "      <td>IT</td>\n",
       "      <td>F</td>\n",
       "      <td>Father</td>\n",
       "      <td>10</td>\n",
       "      <td>7</td>\n",
       "      <td>0</td>\n",
       "      <td>30</td>\n",
       "      <td>No</td>\n",
       "      <td>Bad</td>\n",
       "      <td>Above-7</td>\n",
       "      <td>L</td>\n",
       "    </tr>\n",
       "    <tr>\n",
       "      <th>3</th>\n",
       "      <td>M</td>\n",
       "      <td>KW</td>\n",
       "      <td>KuwaIT</td>\n",
       "      <td>lowerlevel</td>\n",
       "      <td>G-04</td>\n",
       "      <td>A</td>\n",
       "      <td>IT</td>\n",
       "      <td>F</td>\n",
       "      <td>Father</td>\n",
       "      <td>30</td>\n",
       "      <td>25</td>\n",
       "      <td>5</td>\n",
       "      <td>35</td>\n",
       "      <td>No</td>\n",
       "      <td>Bad</td>\n",
       "      <td>Above-7</td>\n",
       "      <td>L</td>\n",
       "    </tr>\n",
       "    <tr>\n",
       "      <th>4</th>\n",
       "      <td>M</td>\n",
       "      <td>KW</td>\n",
       "      <td>KuwaIT</td>\n",
       "      <td>lowerlevel</td>\n",
       "      <td>G-04</td>\n",
       "      <td>A</td>\n",
       "      <td>IT</td>\n",
       "      <td>F</td>\n",
       "      <td>Father</td>\n",
       "      <td>40</td>\n",
       "      <td>50</td>\n",
       "      <td>12</td>\n",
       "      <td>50</td>\n",
       "      <td>No</td>\n",
       "      <td>Bad</td>\n",
       "      <td>Above-7</td>\n",
       "      <td>M</td>\n",
       "    </tr>\n",
       "    <tr>\n",
       "      <th>...</th>\n",
       "      <td>...</td>\n",
       "      <td>...</td>\n",
       "      <td>...</td>\n",
       "      <td>...</td>\n",
       "      <td>...</td>\n",
       "      <td>...</td>\n",
       "      <td>...</td>\n",
       "      <td>...</td>\n",
       "      <td>...</td>\n",
       "      <td>...</td>\n",
       "      <td>...</td>\n",
       "      <td>...</td>\n",
       "      <td>...</td>\n",
       "      <td>...</td>\n",
       "      <td>...</td>\n",
       "      <td>...</td>\n",
       "      <td>...</td>\n",
       "    </tr>\n",
       "    <tr>\n",
       "      <th>475</th>\n",
       "      <td>F</td>\n",
       "      <td>Jordan</td>\n",
       "      <td>Jordan</td>\n",
       "      <td>MiddleSchool</td>\n",
       "      <td>G-08</td>\n",
       "      <td>A</td>\n",
       "      <td>Chemistry</td>\n",
       "      <td>S</td>\n",
       "      <td>Father</td>\n",
       "      <td>5</td>\n",
       "      <td>4</td>\n",
       "      <td>5</td>\n",
       "      <td>8</td>\n",
       "      <td>No</td>\n",
       "      <td>Bad</td>\n",
       "      <td>Above-7</td>\n",
       "      <td>L</td>\n",
       "    </tr>\n",
       "    <tr>\n",
       "      <th>476</th>\n",
       "      <td>F</td>\n",
       "      <td>Jordan</td>\n",
       "      <td>Jordan</td>\n",
       "      <td>MiddleSchool</td>\n",
       "      <td>G-08</td>\n",
       "      <td>A</td>\n",
       "      <td>Geology</td>\n",
       "      <td>F</td>\n",
       "      <td>Father</td>\n",
       "      <td>50</td>\n",
       "      <td>77</td>\n",
       "      <td>14</td>\n",
       "      <td>28</td>\n",
       "      <td>No</td>\n",
       "      <td>Bad</td>\n",
       "      <td>Under-7</td>\n",
       "      <td>M</td>\n",
       "    </tr>\n",
       "    <tr>\n",
       "      <th>477</th>\n",
       "      <td>F</td>\n",
       "      <td>Jordan</td>\n",
       "      <td>Jordan</td>\n",
       "      <td>MiddleSchool</td>\n",
       "      <td>G-08</td>\n",
       "      <td>A</td>\n",
       "      <td>Geology</td>\n",
       "      <td>S</td>\n",
       "      <td>Father</td>\n",
       "      <td>55</td>\n",
       "      <td>74</td>\n",
       "      <td>25</td>\n",
       "      <td>29</td>\n",
       "      <td>No</td>\n",
       "      <td>Bad</td>\n",
       "      <td>Under-7</td>\n",
       "      <td>M</td>\n",
       "    </tr>\n",
       "    <tr>\n",
       "      <th>478</th>\n",
       "      <td>F</td>\n",
       "      <td>Jordan</td>\n",
       "      <td>Jordan</td>\n",
       "      <td>MiddleSchool</td>\n",
       "      <td>G-08</td>\n",
       "      <td>A</td>\n",
       "      <td>History</td>\n",
       "      <td>F</td>\n",
       "      <td>Father</td>\n",
       "      <td>30</td>\n",
       "      <td>17</td>\n",
       "      <td>14</td>\n",
       "      <td>57</td>\n",
       "      <td>No</td>\n",
       "      <td>Bad</td>\n",
       "      <td>Above-7</td>\n",
       "      <td>L</td>\n",
       "    </tr>\n",
       "    <tr>\n",
       "      <th>479</th>\n",
       "      <td>F</td>\n",
       "      <td>Jordan</td>\n",
       "      <td>Jordan</td>\n",
       "      <td>MiddleSchool</td>\n",
       "      <td>G-08</td>\n",
       "      <td>A</td>\n",
       "      <td>History</td>\n",
       "      <td>S</td>\n",
       "      <td>Father</td>\n",
       "      <td>35</td>\n",
       "      <td>14</td>\n",
       "      <td>23</td>\n",
       "      <td>62</td>\n",
       "      <td>No</td>\n",
       "      <td>Bad</td>\n",
       "      <td>Above-7</td>\n",
       "      <td>L</td>\n",
       "    </tr>\n",
       "  </tbody>\n",
       "</table>\n",
       "<p>480 rows × 17 columns</p>\n",
       "</div>"
      ],
      "text/plain": [
       "    gender NationalITy PlaceofBirth       StageID GradeID SectionID  \\\n",
       "0        M          KW       KuwaIT    lowerlevel    G-04         A   \n",
       "1        M          KW       KuwaIT    lowerlevel    G-04         A   \n",
       "2        M          KW       KuwaIT    lowerlevel    G-04         A   \n",
       "3        M          KW       KuwaIT    lowerlevel    G-04         A   \n",
       "4        M          KW       KuwaIT    lowerlevel    G-04         A   \n",
       "..     ...         ...          ...           ...     ...       ...   \n",
       "475      F      Jordan       Jordan  MiddleSchool    G-08         A   \n",
       "476      F      Jordan       Jordan  MiddleSchool    G-08         A   \n",
       "477      F      Jordan       Jordan  MiddleSchool    G-08         A   \n",
       "478      F      Jordan       Jordan  MiddleSchool    G-08         A   \n",
       "479      F      Jordan       Jordan  MiddleSchool    G-08         A   \n",
       "\n",
       "         Topic Semester Relation  raisedhands  VisITedResources  \\\n",
       "0           IT        F   Father           15                16   \n",
       "1           IT        F   Father           20                20   \n",
       "2           IT        F   Father           10                 7   \n",
       "3           IT        F   Father           30                25   \n",
       "4           IT        F   Father           40                50   \n",
       "..         ...      ...      ...          ...               ...   \n",
       "475  Chemistry        S   Father            5                 4   \n",
       "476    Geology        F   Father           50                77   \n",
       "477    Geology        S   Father           55                74   \n",
       "478    History        F   Father           30                17   \n",
       "479    History        S   Father           35                14   \n",
       "\n",
       "     AnnouncementsView  Discussion ParentAnsweringSurvey  \\\n",
       "0                    2          20                   Yes   \n",
       "1                    3          25                   Yes   \n",
       "2                    0          30                    No   \n",
       "3                    5          35                    No   \n",
       "4                   12          50                    No   \n",
       "..                 ...         ...                   ...   \n",
       "475                  5           8                    No   \n",
       "476                 14          28                    No   \n",
       "477                 25          29                    No   \n",
       "478                 14          57                    No   \n",
       "479                 23          62                    No   \n",
       "\n",
       "    ParentschoolSatisfaction StudentAbsenceDays Class  \n",
       "0                       Good            Under-7     M  \n",
       "1                       Good            Under-7     M  \n",
       "2                        Bad            Above-7     L  \n",
       "3                        Bad            Above-7     L  \n",
       "4                        Bad            Above-7     M  \n",
       "..                       ...                ...   ...  \n",
       "475                      Bad            Above-7     L  \n",
       "476                      Bad            Under-7     M  \n",
       "477                      Bad            Under-7     M  \n",
       "478                      Bad            Above-7     L  \n",
       "479                      Bad            Above-7     L  \n",
       "\n",
       "[480 rows x 17 columns]"
      ]
     },
     "execution_count": 2,
     "metadata": {},
     "output_type": "execute_result"
    }
   ],
   "source": [
    "df = pd.read_csv(r'D:\\Uddhav\\DATA SCIENCE\\Logistic Regression using Python\\xAPI-Edu-Data.csv')\n",
    "df"
   ]
  },
  {
   "cell_type": "markdown",
   "id": "f175cab6",
   "metadata": {},
   "source": [
    "# Understanding The Data"
   ]
  },
  {
   "cell_type": "code",
   "execution_count": 3,
   "id": "30993e0f",
   "metadata": {
    "scrolled": false
   },
   "outputs": [
    {
     "name": "stdout",
     "output_type": "stream",
     "text": [
      "<class 'pandas.core.frame.DataFrame'>\n",
      "RangeIndex: 480 entries, 0 to 479\n",
      "Data columns (total 17 columns):\n",
      " #   Column                    Non-Null Count  Dtype \n",
      "---  ------                    --------------  ----- \n",
      " 0   gender                    480 non-null    object\n",
      " 1   NationalITy               480 non-null    object\n",
      " 2   PlaceofBirth              480 non-null    object\n",
      " 3   StageID                   480 non-null    object\n",
      " 4   GradeID                   480 non-null    object\n",
      " 5   SectionID                 480 non-null    object\n",
      " 6   Topic                     480 non-null    object\n",
      " 7   Semester                  480 non-null    object\n",
      " 8   Relation                  480 non-null    object\n",
      " 9   raisedhands               480 non-null    int64 \n",
      " 10  VisITedResources          480 non-null    int64 \n",
      " 11  AnnouncementsView         480 non-null    int64 \n",
      " 12  Discussion                480 non-null    int64 \n",
      " 13  ParentAnsweringSurvey     480 non-null    object\n",
      " 14  ParentschoolSatisfaction  480 non-null    object\n",
      " 15  StudentAbsenceDays        480 non-null    object\n",
      " 16  Class                     480 non-null    object\n",
      "dtypes: int64(4), object(13)\n",
      "memory usage: 63.9+ KB\n"
     ]
    }
   ],
   "source": [
    "df.info()"
   ]
  },
  {
   "cell_type": "code",
   "execution_count": 4,
   "id": "5741d0a9",
   "metadata": {},
   "outputs": [
    {
     "data": {
      "text/html": [
       "<div>\n",
       "<style scoped>\n",
       "    .dataframe tbody tr th:only-of-type {\n",
       "        vertical-align: middle;\n",
       "    }\n",
       "\n",
       "    .dataframe tbody tr th {\n",
       "        vertical-align: top;\n",
       "    }\n",
       "\n",
       "    .dataframe thead th {\n",
       "        text-align: right;\n",
       "    }\n",
       "</style>\n",
       "<table border=\"1\" class=\"dataframe\">\n",
       "  <thead>\n",
       "    <tr style=\"text-align: right;\">\n",
       "      <th></th>\n",
       "      <th>raisedhands</th>\n",
       "      <th>VisITedResources</th>\n",
       "      <th>AnnouncementsView</th>\n",
       "      <th>Discussion</th>\n",
       "    </tr>\n",
       "  </thead>\n",
       "  <tbody>\n",
       "    <tr>\n",
       "      <th>count</th>\n",
       "      <td>480.000000</td>\n",
       "      <td>480.000000</td>\n",
       "      <td>480.000000</td>\n",
       "      <td>480.000000</td>\n",
       "    </tr>\n",
       "    <tr>\n",
       "      <th>mean</th>\n",
       "      <td>46.775000</td>\n",
       "      <td>54.797917</td>\n",
       "      <td>37.918750</td>\n",
       "      <td>43.283333</td>\n",
       "    </tr>\n",
       "    <tr>\n",
       "      <th>std</th>\n",
       "      <td>30.779223</td>\n",
       "      <td>33.080007</td>\n",
       "      <td>26.611244</td>\n",
       "      <td>27.637735</td>\n",
       "    </tr>\n",
       "    <tr>\n",
       "      <th>min</th>\n",
       "      <td>0.000000</td>\n",
       "      <td>0.000000</td>\n",
       "      <td>0.000000</td>\n",
       "      <td>1.000000</td>\n",
       "    </tr>\n",
       "    <tr>\n",
       "      <th>25%</th>\n",
       "      <td>15.750000</td>\n",
       "      <td>20.000000</td>\n",
       "      <td>14.000000</td>\n",
       "      <td>20.000000</td>\n",
       "    </tr>\n",
       "    <tr>\n",
       "      <th>50%</th>\n",
       "      <td>50.000000</td>\n",
       "      <td>65.000000</td>\n",
       "      <td>33.000000</td>\n",
       "      <td>39.000000</td>\n",
       "    </tr>\n",
       "    <tr>\n",
       "      <th>75%</th>\n",
       "      <td>75.000000</td>\n",
       "      <td>84.000000</td>\n",
       "      <td>58.000000</td>\n",
       "      <td>70.000000</td>\n",
       "    </tr>\n",
       "    <tr>\n",
       "      <th>max</th>\n",
       "      <td>100.000000</td>\n",
       "      <td>99.000000</td>\n",
       "      <td>98.000000</td>\n",
       "      <td>99.000000</td>\n",
       "    </tr>\n",
       "  </tbody>\n",
       "</table>\n",
       "</div>"
      ],
      "text/plain": [
       "       raisedhands  VisITedResources  AnnouncementsView  Discussion\n",
       "count   480.000000        480.000000         480.000000  480.000000\n",
       "mean     46.775000         54.797917          37.918750   43.283333\n",
       "std      30.779223         33.080007          26.611244   27.637735\n",
       "min       0.000000          0.000000           0.000000    1.000000\n",
       "25%      15.750000         20.000000          14.000000   20.000000\n",
       "50%      50.000000         65.000000          33.000000   39.000000\n",
       "75%      75.000000         84.000000          58.000000   70.000000\n",
       "max     100.000000         99.000000          98.000000   99.000000"
      ]
     },
     "execution_count": 4,
     "metadata": {},
     "output_type": "execute_result"
    }
   ],
   "source": [
    "df.describe()"
   ]
  },
  {
   "cell_type": "markdown",
   "id": "4c3d3055",
   "metadata": {},
   "source": [
    "On observation there are only 4 continious variable columns in the dataset."
   ]
  },
  {
   "cell_type": "code",
   "execution_count": 5,
   "id": "d65fb41e",
   "metadata": {},
   "outputs": [
    {
     "data": {
      "text/plain": [
       "<AxesSubplot:>"
      ]
     },
     "execution_count": 5,
     "metadata": {},
     "output_type": "execute_result"
    },
    {
     "data": {
      "image/png": "[encoded data removed]",
      "text/plain": [
       "<Figure size 432x288 with 2 Axes>"
      ]
     },
     "metadata": {},
     "output_type": "display_data"
    }
   ],
   "source": [
    "sns.heatmap(df.isnull())"
   ]
  },
  {
   "cell_type": "code",
   "execution_count": 6,
   "id": "a3b7eac8",
   "metadata": {},
   "outputs": [],
   "source": [
    "df.replace(' ', np.nan, inplace=True)"
   ]
  },
  {
   "cell_type": "code",
   "execution_count": 7,
   "id": "0d1c4476",
   "metadata": {
    "scrolled": true
   },
   "outputs": [
    {
     "data": {
      "text/plain": [
       "gender                      0\n",
       "NationalITy                 0\n",
       "PlaceofBirth                0\n",
       "StageID                     0\n",
       "GradeID                     0\n",
       "SectionID                   0\n",
       "Topic                       0\n",
       "Semester                    0\n",
       "Relation                    0\n",
       "raisedhands                 0\n",
       "VisITedResources            0\n",
       "AnnouncementsView           0\n",
       "Discussion                  0\n",
       "ParentAnsweringSurvey       0\n",
       "ParentschoolSatisfaction    0\n",
       "StudentAbsenceDays          0\n",
       "Class                       0\n",
       "dtype: int64"
      ]
     },
     "execution_count": 7,
     "metadata": {},
     "output_type": "execute_result"
    }
   ],
   "source": [
    "df.isnull().sum()"
   ]
  },
  {
   "cell_type": "code",
   "execution_count": 8,
   "id": "e97b07b6",
   "metadata": {},
   "outputs": [
    {
     "data": {
      "text/plain": [
       "Index(['gender', 'NationalITy', 'PlaceofBirth', 'StageID', 'GradeID',\n",
       "       'SectionID', 'Topic', 'Semester', 'Relation', 'raisedhands',\n",
       "       'VisITedResources', 'AnnouncementsView', 'Discussion',\n",
       "       'ParentAnsweringSurvey', 'ParentschoolSatisfaction',\n",
       "       'StudentAbsenceDays', 'Class'],\n",
       "      dtype='object')"
      ]
     },
     "execution_count": 8,
     "metadata": {},
     "output_type": "execute_result"
    }
   ],
   "source": [
    "df.columns"
   ]
  },
  {
   "cell_type": "markdown",
   "id": "0083f5fa",
   "metadata": {},
   "source": [
    "##### The dataset has no nulls."
   ]
  },
  {
   "cell_type": "markdown",
   "id": "b763f663",
   "metadata": {},
   "source": [
    "## Q.1 Visualize just the categorical features individually to see what options are included and how each option fares when it comes to count(how many times it appears) and see what can be deduce from that?\n"
   ]
  },
  {
   "cell_type": "markdown",
   "id": "72ca8f25",
   "metadata": {},
   "source": [
    "### 1. Gender"
   ]
  },
  {
   "cell_type": "code",
   "execution_count": 9,
   "id": "a30e9f54",
   "metadata": {
    "scrolled": true
   },
   "outputs": [
    {
     "data": {
      "text/plain": [
       "<AxesSubplot:xlabel='gender', ylabel='count'>"
      ]
     },
     "execution_count": 9,
     "metadata": {},
     "output_type": "execute_result"
    },
    {
     "data": {
      "image/png": "[encoded data removed]",
      "text/plain": [
       "<Figure size 432x288 with 1 Axes>"
      ]
     },
     "metadata": {},
     "output_type": "display_data"
    }
   ],
   "source": [
    "sns.countplot(df.gender, order=['M','F'], palette='hls')"
   ]
  },
  {
   "cell_type": "markdown",
   "id": "428bd926",
   "metadata": {},
   "source": [
    "We can observe that Male Students are high in "
   ]
  },
  {
   "cell_type": "markdown",
   "id": "af1545a1",
   "metadata": {},
   "source": [
    "### 2.StageID"
   ]
  },
  {
   "cell_type": "code",
   "execution_count": 10,
   "id": "ca1cd519",
   "metadata": {},
   "outputs": [
    {
     "data": {
      "text/plain": [
       "<AxesSubplot:xlabel='StageID', ylabel='count'>"
      ]
     },
     "execution_count": 10,
     "metadata": {},
     "output_type": "execute_result"
    },
    {
     "data": {
      "image/png": "[encoded data removed]",
      "text/plain": [
       "<Figure size 432x288 with 1 Axes>"
      ]
     },
     "metadata": {},
     "output_type": "display_data"
    }
   ],
   "source": [
    "sns.countplot(df.StageID, palette='hls')"
   ]
  },
  {
   "cell_type": "markdown",
   "id": "9fce79c1",
   "metadata": {},
   "source": [
    "The count of students in High School is less as compared to Lowerlevel and Middle School."
   ]
  },
  {
   "cell_type": "markdown",
   "id": "08c3939d",
   "metadata": {},
   "source": [
    "### 3. Semester"
   ]
  },
  {
   "cell_type": "code",
   "execution_count": 11,
   "id": "47bb9d0f",
   "metadata": {},
   "outputs": [
    {
     "data": {
      "text/plain": [
       "<AxesSubplot:xlabel='Semester', ylabel='count'>"
      ]
     },
     "execution_count": 11,
     "metadata": {},
     "output_type": "execute_result"
    },
    {
     "data": {
      "image/png": "[encoded data removed]",
      "text/plain": [
       "<Figure size 432x288 with 1 Axes>"
      ]
     },
     "metadata": {},
     "output_type": "display_data"
    }
   ],
   "source": [
    "sns.countplot(df.Semester, order=['F','S'], palette='hls')"
   ]
  },
  {
   "cell_type": "markdown",
   "id": "1f478022",
   "metadata": {},
   "source": [
    "### 4. Relation"
   ]
  },
  {
   "cell_type": "code",
   "execution_count": 12,
   "id": "b620ab63",
   "metadata": {
    "scrolled": true
   },
   "outputs": [
    {
     "data": {
      "text/plain": [
       "<AxesSubplot:xlabel='Relation', ylabel='count'>"
      ]
     },
     "execution_count": 12,
     "metadata": {},
     "output_type": "execute_result"
    },
    {
     "data": {
      "image/png": "[encoded data removed]",
      "text/plain": [
       "<Figure size 432x288 with 1 Axes>"
      ]
     },
     "metadata": {},
     "output_type": "display_data"
    }
   ],
   "source": [
    "sns.countplot(df.Relation, palette='hls')"
   ]
  },
  {
   "cell_type": "markdown",
   "id": "6aec285a",
   "metadata": {},
   "source": [
    "Count of students having a better relation with father is more as compared to mother."
   ]
  },
  {
   "cell_type": "markdown",
   "id": "e3e99863",
   "metadata": {},
   "source": [
    "### 5. ParentAnsweringSurvey"
   ]
  },
  {
   "cell_type": "code",
   "execution_count": 13,
   "id": "aa8f889d",
   "metadata": {},
   "outputs": [
    {
     "data": {
      "text/plain": [
       "<AxesSubplot:xlabel='ParentAnsweringSurvey', ylabel='count'>"
      ]
     },
     "execution_count": 13,
     "metadata": {},
     "output_type": "execute_result"
    },
    {
     "data": {
      "image/png": "[encoded data removed]",
      "text/plain": [
       "<Figure size 432x288 with 1 Axes>"
      ]
     },
     "metadata": {},
     "output_type": "display_data"
    }
   ],
   "source": [
    "sns.countplot(df.ParentAnsweringSurvey, palette='hls')"
   ]
  },
  {
   "cell_type": "markdown",
   "id": "ff3603ea",
   "metadata": {},
   "source": [
    "### 6. ParentschoolSatisfaction\t"
   ]
  },
  {
   "cell_type": "code",
   "execution_count": 14,
   "id": "9d6ea99c",
   "metadata": {
    "scrolled": true
   },
   "outputs": [
    {
     "data": {
      "text/plain": [
       "<AxesSubplot:xlabel='ParentschoolSatisfaction', ylabel='count'>"
      ]
     },
     "execution_count": 14,
     "metadata": {},
     "output_type": "execute_result"
    },
    {
     "data": {
      "image/png": "[encoded data removed]",
      "text/plain": [
       "<Figure size 432x288 with 1 Axes>"
      ]
     },
     "metadata": {},
     "output_type": "display_data"
    }
   ],
   "source": [
    "sns.countplot(df.ParentschoolSatisfaction, palette='hls')"
   ]
  },
  {
   "cell_type": "markdown",
   "id": "339fd303",
   "metadata": {},
   "source": [
    "Most of the parents are satisfied with the academics of the school."
   ]
  },
  {
   "cell_type": "markdown",
   "id": "2b6f95b2",
   "metadata": {},
   "source": [
    "### 7. StudentAbsenceDays"
   ]
  },
  {
   "cell_type": "code",
   "execution_count": 15,
   "id": "8271db1d",
   "metadata": {},
   "outputs": [
    {
     "data": {
      "text/plain": [
       "<AxesSubplot:xlabel='StudentAbsenceDays', ylabel='count'>"
      ]
     },
     "execution_count": 15,
     "metadata": {},
     "output_type": "execute_result"
    },
    {
     "data": {
      "image/png": "[encoded data removed]",
      "text/plain": [
       "<Figure size 432x288 with 1 Axes>"
      ]
     },
     "metadata": {},
     "output_type": "display_data"
    }
   ],
   "source": [
    "sns.countplot(df.StudentAbsenceDays, palette='hls')"
   ]
  },
  {
   "cell_type": "markdown",
   "id": "607f6409",
   "metadata": {},
   "source": [
    "The attendence of students seems to be good but there are few who have taken more than 7 days of leave."
   ]
  },
  {
   "cell_type": "markdown",
   "id": "1888a052",
   "metadata": {},
   "source": [
    "### 8. Class"
   ]
  },
  {
   "cell_type": "code",
   "execution_count": 16,
   "id": "1ed795dc",
   "metadata": {},
   "outputs": [
    {
     "data": {
      "text/plain": [
       "<AxesSubplot:xlabel='Class', ylabel='count'>"
      ]
     },
     "execution_count": 16,
     "metadata": {},
     "output_type": "execute_result"
    },
    {
     "data": {
      "image/png": "[encoded data removed]",
      "text/plain": [
       "<Figure size 432x288 with 1 Axes>"
      ]
     },
     "metadata": {},
     "output_type": "display_data"
    }
   ],
   "source": [
    "sns.countplot(df.Class, order=['L','M','H'],palette='hls')"
   ]
  },
  {
   "cell_type": "markdown",
   "id": "5222e252",
   "metadata": {},
   "source": [
    "### 9. Nationality"
   ]
  },
  {
   "cell_type": "code",
   "execution_count": 17,
   "id": "7b1f7a6d",
   "metadata": {},
   "outputs": [
    {
     "data": {
      "text/plain": [
       "<AxesSubplot:xlabel='NationalITy', ylabel='count'>"
      ]
     },
     "execution_count": 17,
     "metadata": {},
     "output_type": "execute_result"
    },
    {
     "data": {
      "image/png": "[encoded data removed]",
      "text/plain": [
       "<Figure size 864x360 with 1 Axes>"
      ]
     },
     "metadata": {},
     "output_type": "display_data"
    }
   ],
   "source": [
    "fig, ax = plt.subplots(figsize = (12,5)) \n",
    "sns.countplot(df.NationalITy, palette='hls')"
   ]
  },
  {
   "cell_type": "markdown",
   "id": "5b3c1a06",
   "metadata": {},
   "source": [
    "### 10. Topic"
   ]
  },
  {
   "cell_type": "code",
   "execution_count": 18,
   "id": "5cb9adaa",
   "metadata": {},
   "outputs": [
    {
     "data": {
      "text/plain": [
       "<AxesSubplot:xlabel='Topic', ylabel='count'>"
      ]
     },
     "execution_count": 18,
     "metadata": {},
     "output_type": "execute_result"
    },
    {
     "data": {
      "image/png": "[encoded data removed]",
      "text/plain": [
       "<Figure size 864x360 with 1 Axes>"
      ]
     },
     "metadata": {},
     "output_type": "display_data"
    }
   ],
   "source": [
    "fig, ax = plt.subplots(figsize = (12,5))\n",
    "sns.countplot(df.Topic, palette='hls')"
   ]
  },
  {
   "cell_type": "markdown",
   "id": "cb3fe506",
   "metadata": {},
   "source": [
    "#### 1. We can conclude that there are more Male students than Female.\n",
    "#### 2. This can be justified as there are more Islamic states hence there is a Gender Disparity.\n",
    "#### 3. There are very less count of students who carry out their education beyond Middle School.\n",
    "#### 4. Jordan and Kuwait are the 2 nations with higgest number of students even compared to USA.\n",
    "#### 5. Students opt for IT more than any other subject.\n",
    "#### 6. Despite being a majority of Islamic Nations students tend to learn French more than Arabic.\n",
    "#### 7. There are less students that have been absent for more than 7 days."
   ]
  },
  {
   "cell_type": "markdown",
   "id": "01002116",
   "metadata": {},
   "source": [
    "## Q.2 Look at some categorical features in relation to each other, to see what insights could be possibly read?"
   ]
  },
  {
   "cell_type": "markdown",
   "id": "a7fca9f6",
   "metadata": {},
   "source": [
    "### Gender & Class"
   ]
  },
  {
   "cell_type": "code",
   "execution_count": 19,
   "id": "e24310a1",
   "metadata": {},
   "outputs": [
    {
     "data": {
      "text/plain": [
       "<AxesSubplot:xlabel='gender', ylabel='count'>"
      ]
     },
     "execution_count": 19,
     "metadata": {},
     "output_type": "execute_result"
    },
    {
     "data": {
      "image/png": "[encoded data removed]",
      "text/plain": [
       "<Figure size 432x288 with 1 Axes>"
      ]
     },
     "metadata": {},
     "output_type": "display_data"
    }
   ],
   "source": [
    "sns.countplot(x='gender', hue='Class',data=df,order=['M','F'], hue_order=['L','M','H'])"
   ]
  },
  {
   "cell_type": "markdown",
   "id": "591e1664",
   "metadata": {},
   "source": [
    "Female students are performing better than male as there are very low count of female with Low grade and comparetively High grade counts are more."
   ]
  },
  {
   "cell_type": "markdown",
   "id": "13a71b6c",
   "metadata": {},
   "source": [
    "### Gender & StageID"
   ]
  },
  {
   "cell_type": "code",
   "execution_count": 20,
   "id": "21a44cd6",
   "metadata": {},
   "outputs": [
    {
     "data": {
      "text/plain": [
       "<AxesSubplot:xlabel='gender', ylabel='count'>"
      ]
     },
     "execution_count": 20,
     "metadata": {},
     "output_type": "execute_result"
    },
    {
     "data": {
      "image/png": "[encoded data removed]",
      "text/plain": [
       "<Figure size 432x288 with 1 Axes>"
      ]
     },
     "metadata": {},
     "output_type": "display_data"
    }
   ],
   "source": [
    "sns.countplot(x='gender', hue='StageID', data=df, order=['M','F'])"
   ]
  },
  {
   "cell_type": "markdown",
   "id": "e89dfa14",
   "metadata": {},
   "source": [
    "### Gender & Semester"
   ]
  },
  {
   "cell_type": "code",
   "execution_count": 21,
   "id": "5337f9be",
   "metadata": {},
   "outputs": [
    {
     "data": {
      "text/plain": [
       "<AxesSubplot:xlabel='gender', ylabel='count'>"
      ]
     },
     "execution_count": 21,
     "metadata": {},
     "output_type": "execute_result"
    },
    {
     "data": {
      "image/png": "[encoded data removed]",
      "text/plain": [
       "<Figure size 432x288 with 1 Axes>"
      ]
     },
     "metadata": {},
     "output_type": "display_data"
    }
   ],
   "source": [
    "sns.countplot(x='gender', hue='Semester', data=df, order=['M','F'])"
   ]
  },
  {
   "cell_type": "markdown",
   "id": "3caf8cc0",
   "metadata": {},
   "source": [
    "### Gender & Nationality"
   ]
  },
  {
   "cell_type": "code",
   "execution_count": 22,
   "id": "479d567a",
   "metadata": {},
   "outputs": [
    {
     "data": {
      "text/plain": [
       "<AxesSubplot:xlabel='gender', ylabel='count'>"
      ]
     },
     "execution_count": 22,
     "metadata": {},
     "output_type": "execute_result"
    },
    {
     "data": {
      "image/png": "[encoded data removed]",
      "text/plain": [
       "<Figure size 864x432 with 1 Axes>"
      ]
     },
     "metadata": {},
     "output_type": "display_data"
    }
   ],
   "source": [
    "fig, ax = plt.subplots(figsize = (12,6))\n",
    "sns.countplot(x='gender', hue='NationalITy', data=df, order=['M','F'])"
   ]
  },
  {
   "cell_type": "markdown",
   "id": "a4a3039c",
   "metadata": {},
   "source": [
    "There is a clear observation of Gender Disparity in these countries related to education."
   ]
  },
  {
   "cell_type": "markdown",
   "id": "d57a08a6",
   "metadata": {},
   "source": [
    "### Gender & Topic"
   ]
  },
  {
   "cell_type": "code",
   "execution_count": 23,
   "id": "b92a3186",
   "metadata": {},
   "outputs": [
    {
     "data": {
      "text/plain": [
       "<AxesSubplot:xlabel='gender', ylabel='count'>"
      ]
     },
     "execution_count": 23,
     "metadata": {},
     "output_type": "execute_result"
    },
    {
     "data": {
      "image/png": "[encoded data removed]",
      "text/plain": [
       "<Figure size 864x432 with 1 Axes>"
      ]
     },
     "metadata": {},
     "output_type": "display_data"
    }
   ],
   "source": [
    "fig, ax = plt.subplots(figsize = (12,6))\n",
    "sns.countplot(x='gender', hue='Topic', data=df, order=['M','F'])"
   ]
  },
  {
   "cell_type": "markdown",
   "id": "d251bd05",
   "metadata": {},
   "source": [
    "Looking at the value counts there is no much difference as the Ratio of Male:Female has a huge difference but as compared to male female has opted less to learn Spanish."
   ]
  },
  {
   "cell_type": "markdown",
   "id": "0b75eb20",
   "metadata": {},
   "source": [
    "### Gender & Relation"
   ]
  },
  {
   "cell_type": "code",
   "execution_count": 24,
   "id": "9f1aa5ac",
   "metadata": {},
   "outputs": [
    {
     "data": {
      "text/plain": [
       "<AxesSubplot:xlabel='gender', ylabel='count'>"
      ]
     },
     "execution_count": 24,
     "metadata": {},
     "output_type": "execute_result"
    },
    {
     "data": {
      "image/png": "[encoded data removed]",
      "text/plain": [
       "<Figure size 432x288 with 1 Axes>"
      ]
     },
     "metadata": {},
     "output_type": "display_data"
    }
   ],
   "source": [
    "sns.countplot(x='gender', hue='Relation', data=df, order=['M','F'])"
   ]
  },
  {
   "cell_type": "markdown",
   "id": "b8aa6dd7",
   "metadata": {},
   "source": [
    "Female students have more relation with their Mother as compared to Father."
   ]
  },
  {
   "cell_type": "markdown",
   "id": "ce7f60fc",
   "metadata": {},
   "source": [
    "### Gender & Parents Answering Survey"
   ]
  },
  {
   "cell_type": "code",
   "execution_count": 25,
   "id": "936803ed",
   "metadata": {},
   "outputs": [
    {
     "data": {
      "text/plain": [
       "<AxesSubplot:xlabel='gender', ylabel='count'>"
      ]
     },
     "execution_count": 25,
     "metadata": {},
     "output_type": "execute_result"
    },
    {
     "data": {
      "image/png": "[encoded data removed]",
      "text/plain": [
       "<Figure size 432x288 with 1 Axes>"
      ]
     },
     "metadata": {},
     "output_type": "display_data"
    }
   ],
   "source": [
    "sns.countplot(x='gender', hue='ParentAnsweringSurvey', data=df, order=['M','F'])"
   ]
  },
  {
   "cell_type": "markdown",
   "id": "d30a87b1",
   "metadata": {},
   "source": [
    "### Gender & ParentschoolSatisfaction"
   ]
  },
  {
   "cell_type": "code",
   "execution_count": 26,
   "id": "9428973c",
   "metadata": {},
   "outputs": [
    {
     "data": {
      "text/plain": [
       "<AxesSubplot:xlabel='gender', ylabel='count'>"
      ]
     },
     "execution_count": 26,
     "metadata": {},
     "output_type": "execute_result"
    },
    {
     "data": {
      "image/png": "[encoded data removed]",
      "text/plain": [
       "<Figure size 432x288 with 1 Axes>"
      ]
     },
     "metadata": {},
     "output_type": "display_data"
    }
   ],
   "source": [
    "sns.countplot(x='gender', hue='ParentschoolSatisfaction', data=df, order=['M','F'])"
   ]
  },
  {
   "cell_type": "markdown",
   "id": "f5436a27",
   "metadata": {},
   "source": [
    "### Gender & Student Absence Days"
   ]
  },
  {
   "cell_type": "code",
   "execution_count": 27,
   "id": "6d332ab5",
   "metadata": {},
   "outputs": [
    {
     "data": {
      "text/plain": [
       "<AxesSubplot:xlabel='gender', ylabel='count'>"
      ]
     },
     "execution_count": 27,
     "metadata": {},
     "output_type": "execute_result"
    },
    {
     "data": {
      "image/png": "[encoded data removed]",
      "text/plain": [
       "<Figure size 432x288 with 1 Axes>"
      ]
     },
     "metadata": {},
     "output_type": "display_data"
    }
   ],
   "source": [
    "sns.countplot(x='gender', hue='StudentAbsenceDays', data=df, order=['M','F'])"
   ]
  },
  {
   "cell_type": "markdown",
   "id": "1709126b",
   "metadata": {},
   "source": [
    "#### 1. Female Students have performed better in academics than male students, even the count of female students in High class is higher than Male.\n",
    "#### 2. The count of male students is much higher than females in respect to thier nationality except Kuwait & Jordan.\n",
    "#### 3. Female has attended more classes as compared to Male.\n",
    "#### 4. Much mush difference in Topic selected,\n",
    "#### 5. Mothers tends to support Female students more than Father."
   ]
  },
  {
   "cell_type": "markdown",
   "id": "c0fd5d6a",
   "metadata": {},
   "source": [
    "## Q.3 Visualize categorical variables with numerical variables and give conclusions?"
   ]
  },
  {
   "cell_type": "markdown",
   "id": "e68a5bdc",
   "metadata": {},
   "source": [
    "### Visited Resources"
   ]
  },
  {
   "cell_type": "code",
   "execution_count": 28,
   "id": "28b26ac2",
   "metadata": {},
   "outputs": [
    {
     "data": {
      "text/plain": [
       "<AxesSubplot:xlabel='Class', ylabel='VisITedResources'>"
      ]
     },
     "execution_count": 28,
     "metadata": {},
     "output_type": "execute_result"
    },
    {
     "data": {
      "image/png": "[encoded data removed]",
      "text/plain": [
       "<Figure size 432x288 with 1 Axes>"
      ]
     },
     "metadata": {},
     "output_type": "display_data"
    }
   ],
   "source": [
    "sns.barplot(x='Class', y='VisITedResources', data=df, order=['L','M','H'])"
   ]
  },
  {
   "cell_type": "markdown",
   "id": "16002fde",
   "metadata": {},
   "source": [
    "Higher grade students visited Resources more than lower grade once."
   ]
  },
  {
   "cell_type": "markdown",
   "id": "c4396947",
   "metadata": {},
   "source": [
    "### Announcements View"
   ]
  },
  {
   "cell_type": "code",
   "execution_count": 29,
   "id": "64d3ea97",
   "metadata": {},
   "outputs": [
    {
     "data": {
      "text/plain": [
       "<AxesSubplot:xlabel='Class', ylabel='AnnouncementsView'>"
      ]
     },
     "execution_count": 29,
     "metadata": {},
     "output_type": "execute_result"
    },
    {
     "data": {
      "image/png": "[encoded data removed]",
      "text/plain": [
       "<Figure size 432x288 with 1 Axes>"
      ]
     },
     "metadata": {},
     "output_type": "display_data"
    }
   ],
   "source": [
    "sns.barplot(x='Class', y='AnnouncementsView', data=df, order=['L','M','H'])"
   ]
  },
  {
   "cell_type": "markdown",
   "id": "3abefaf4",
   "metadata": {},
   "source": [
    "### Raise Hands"
   ]
  },
  {
   "cell_type": "code",
   "execution_count": 30,
   "id": "9168fb28",
   "metadata": {},
   "outputs": [
    {
     "data": {
      "text/plain": [
       "<AxesSubplot:xlabel='Class', ylabel='raisedhands'>"
      ]
     },
     "execution_count": 30,
     "metadata": {},
     "output_type": "execute_result"
    },
    {
     "data": {
      "image/png": "[encoded data removed]",
      "text/plain": [
       "<Figure size 432x288 with 1 Axes>"
      ]
     },
     "metadata": {},
     "output_type": "display_data"
    }
   ],
   "source": [
    "sns.barplot(x='Class', y='raisedhands', data=df, order=['L','M','H'])"
   ]
  },
  {
   "cell_type": "markdown",
   "id": "164c2e14",
   "metadata": {},
   "source": [
    "### Discussion"
   ]
  },
  {
   "cell_type": "code",
   "execution_count": 31,
   "id": "696af1a1",
   "metadata": {},
   "outputs": [
    {
     "data": {
      "text/plain": [
       "<AxesSubplot:xlabel='Class', ylabel='Discussion'>"
      ]
     },
     "execution_count": 31,
     "metadata": {},
     "output_type": "execute_result"
    },
    {
     "data": {
      "image/png": "[encoded data removed]",
      "text/plain": [
       "<Figure size 432x288 with 1 Axes>"
      ]
     },
     "metadata": {},
     "output_type": "display_data"
    }
   ],
   "source": [
    "sns.barplot(x='Class', y='Discussion', data=df, order=['L','M','H'])"
   ]
  },
  {
   "cell_type": "markdown",
   "id": "ea5798c2",
   "metadata": {},
   "source": [
    "### Semester & Class"
   ]
  },
  {
   "cell_type": "code",
   "execution_count": 32,
   "id": "7c482513",
   "metadata": {},
   "outputs": [
    {
     "data": {
      "text/plain": [
       "<AxesSubplot:xlabel='Semester', ylabel='count'>"
      ]
     },
     "execution_count": 32,
     "metadata": {},
     "output_type": "execute_result"
    },
    {
     "data": {
      "image/png": "[encoded data removed]",
      "text/plain": [
       "<Figure size 432x288 with 1 Axes>"
      ]
     },
     "metadata": {},
     "output_type": "display_data"
    }
   ],
   "source": [
    "sns.countplot(x='Semester', hue='Class', data=df, hue_order=['L','M','H'])"
   ]
  },
  {
   "cell_type": "markdown",
   "id": "b5bd72b3",
   "metadata": {},
   "source": [
    "#### 1. The students who are more actively participating in class have a higher grade.\n",
    "#### 2. Students studied more in the 2nd semester compared to 1st."
   ]
  },
  {
   "cell_type": "markdown",
   "id": "66f5775e",
   "metadata": {},
   "source": [
    "## Q.4 From the above result, what are the factors that leads to get low grades of the students?"
   ]
  },
  {
   "cell_type": "code",
   "execution_count": 33,
   "id": "4b2f8041",
   "metadata": {},
   "outputs": [
    {
     "data": {
      "text/plain": [
       "<AxesSubplot:xlabel='Class', ylabel='count'>"
      ]
     },
     "execution_count": 33,
     "metadata": {},
     "output_type": "execute_result"
    },
    {
     "data": {
      "image/png": "[encoded data removed]",
      "text/plain": [
       "<Figure size 432x288 with 1 Axes>"
      ]
     },
     "metadata": {},
     "output_type": "display_data"
    }
   ],
   "source": [
    "sns.countplot(df.Class, palette='hls', order=['L','M','H'])"
   ]
  },
  {
   "cell_type": "code",
   "execution_count": 34,
   "id": "1b2ae505",
   "metadata": {},
   "outputs": [],
   "source": [
    "df.Class.replace('L',0, inplace=True)\n",
    "df.Class.replace('M',1, inplace=True)\n",
    "df.Class.replace('H',2, inplace=True)"
   ]
  },
  {
   "cell_type": "code",
   "execution_count": 35,
   "id": "689bd5c6",
   "metadata": {},
   "outputs": [
    {
     "data": {
      "text/plain": [
       "<AxesSubplot:xlabel='Class', ylabel='count'>"
      ]
     },
     "execution_count": 35,
     "metadata": {},
     "output_type": "execute_result"
    },
    {
     "data": {
      "image/png": "[encoded data removed]",
      "text/plain": [
       "<Figure size 432x288 with 1 Axes>"
      ]
     },
     "metadata": {},
     "output_type": "display_data"
    }
   ],
   "source": [
    "sns.countplot(df.Class, palette='hls')"
   ]
  },
  {
   "cell_type": "code",
   "execution_count": 36,
   "id": "639f6fcc",
   "metadata": {},
   "outputs": [
    {
     "data": {
      "text/html": [
       "<div>\n",
       "<style scoped>\n",
       "    .dataframe tbody tr th:only-of-type {\n",
       "        vertical-align: middle;\n",
       "    }\n",
       "\n",
       "    .dataframe tbody tr th {\n",
       "        vertical-align: top;\n",
       "    }\n",
       "\n",
       "    .dataframe thead th {\n",
       "        text-align: right;\n",
       "    }\n",
       "</style>\n",
       "<table border=\"1\" class=\"dataframe\">\n",
       "  <thead>\n",
       "    <tr style=\"text-align: right;\">\n",
       "      <th></th>\n",
       "      <th>raisedhands</th>\n",
       "      <th>VisITedResources</th>\n",
       "      <th>AnnouncementsView</th>\n",
       "      <th>Discussion</th>\n",
       "    </tr>\n",
       "    <tr>\n",
       "      <th>Class</th>\n",
       "      <th></th>\n",
       "      <th></th>\n",
       "      <th></th>\n",
       "      <th></th>\n",
       "    </tr>\n",
       "  </thead>\n",
       "  <tbody>\n",
       "    <tr>\n",
       "      <th>0</th>\n",
       "      <td>16.889764</td>\n",
       "      <td>18.322835</td>\n",
       "      <td>15.574803</td>\n",
       "      <td>30.834646</td>\n",
       "    </tr>\n",
       "    <tr>\n",
       "      <th>1</th>\n",
       "      <td>48.938389</td>\n",
       "      <td>60.635071</td>\n",
       "      <td>40.962085</td>\n",
       "      <td>43.791469</td>\n",
       "    </tr>\n",
       "    <tr>\n",
       "      <th>2</th>\n",
       "      <td>70.288732</td>\n",
       "      <td>78.746479</td>\n",
       "      <td>53.380282</td>\n",
       "      <td>53.661972</td>\n",
       "    </tr>\n",
       "  </tbody>\n",
       "</table>\n",
       "</div>"
      ],
      "text/plain": [
       "       raisedhands  VisITedResources  AnnouncementsView  Discussion\n",
       "Class                                                              \n",
       "0        16.889764         18.322835          15.574803   30.834646\n",
       "1        48.938389         60.635071          40.962085   43.791469\n",
       "2        70.288732         78.746479          53.380282   53.661972"
      ]
     },
     "execution_count": 36,
     "metadata": {},
     "output_type": "execute_result"
    }
   ],
   "source": [
    "df.groupby('Class').mean()"
   ]
  },
  {
   "cell_type": "markdown",
   "id": "fac25c40",
   "metadata": {},
   "source": [
    "#### From the above results we can observe that on an average students with low involvements in class have a low grade."
   ]
  },
  {
   "cell_type": "markdown",
   "id": "d67df250",
   "metadata": {},
   "source": [
    "## Q.5 Build classification model and present it's classification report?\n"
   ]
  },
  {
   "cell_type": "markdown",
   "id": "ccd9313e",
   "metadata": {},
   "source": [
    "### Exploratory Data Analysis"
   ]
  },
  {
   "cell_type": "code",
   "execution_count": 37,
   "id": "c5c6e3b5",
   "metadata": {},
   "outputs": [
    {
     "data": {
      "text/plain": [
       "Index(['gender', 'NationalITy', 'PlaceofBirth', 'StageID', 'GradeID',\n",
       "       'SectionID', 'Topic', 'Semester', 'Relation', 'raisedhands',\n",
       "       'VisITedResources', 'AnnouncementsView', 'Discussion',\n",
       "       'ParentAnsweringSurvey', 'ParentschoolSatisfaction',\n",
       "       'StudentAbsenceDays', 'Class'],\n",
       "      dtype='object')"
      ]
     },
     "execution_count": 37,
     "metadata": {},
     "output_type": "execute_result"
    }
   ],
   "source": [
    "df.columns"
   ]
  },
  {
   "cell_type": "code",
   "execution_count": 38,
   "id": "2317bfcc",
   "metadata": {},
   "outputs": [],
   "source": [
    "df.drop(columns=['GradeID','SectionID'], axis=1, inplace=True)"
   ]
  },
  {
   "cell_type": "code",
   "execution_count": 39,
   "id": "fb23bc0b",
   "metadata": {},
   "outputs": [],
   "source": [
    "df.drop(columns=['PlaceofBirth'], axis=1, inplace=True)"
   ]
  },
  {
   "cell_type": "code",
   "execution_count": 40,
   "id": "e101cf0a",
   "metadata": {
    "scrolled": false
   },
   "outputs": [
    {
     "name": "stdout",
     "output_type": "stream",
     "text": [
      "<class 'pandas.core.frame.DataFrame'>\n",
      "RangeIndex: 480 entries, 0 to 479\n",
      "Data columns (total 14 columns):\n",
      " #   Column                    Non-Null Count  Dtype \n",
      "---  ------                    --------------  ----- \n",
      " 0   gender                    480 non-null    object\n",
      " 1   NationalITy               480 non-null    object\n",
      " 2   StageID                   480 non-null    object\n",
      " 3   Topic                     480 non-null    object\n",
      " 4   Semester                  480 non-null    object\n",
      " 5   Relation                  480 non-null    object\n",
      " 6   raisedhands               480 non-null    int64 \n",
      " 7   VisITedResources          480 non-null    int64 \n",
      " 8   AnnouncementsView         480 non-null    int64 \n",
      " 9   Discussion                480 non-null    int64 \n",
      " 10  ParentAnsweringSurvey     480 non-null    object\n",
      " 11  ParentschoolSatisfaction  480 non-null    object\n",
      " 12  StudentAbsenceDays        480 non-null    object\n",
      " 13  Class                     480 non-null    int64 \n",
      "dtypes: int64(5), object(9)\n",
      "memory usage: 52.6+ KB\n"
     ]
    }
   ],
   "source": [
    "df.info()"
   ]
  },
  {
   "cell_type": "markdown",
   "id": "a606c204",
   "metadata": {},
   "source": [
    "### Target Variable"
   ]
  },
  {
   "cell_type": "code",
   "execution_count": 41,
   "id": "bcdd442c",
   "metadata": {},
   "outputs": [
    {
     "data": {
      "text/plain": [
       "0      1\n",
       "1      1\n",
       "2      0\n",
       "3      0\n",
       "4      1\n",
       "      ..\n",
       "475    0\n",
       "476    1\n",
       "477    1\n",
       "478    0\n",
       "479    0\n",
       "Name: Class, Length: 480, dtype: int64"
      ]
     },
     "execution_count": 41,
     "metadata": {},
     "output_type": "execute_result"
    }
   ],
   "source": [
    "df.Class"
   ]
  },
  {
   "cell_type": "code",
   "execution_count": 42,
   "id": "bb44633f",
   "metadata": {},
   "outputs": [
    {
     "data": {
      "text/plain": [
       "1    211\n",
       "2    142\n",
       "0    127\n",
       "Name: Class, dtype: int64"
      ]
     },
     "execution_count": 42,
     "metadata": {},
     "output_type": "execute_result"
    }
   ],
   "source": [
    "df.Class.value_counts()"
   ]
  },
  {
   "cell_type": "markdown",
   "id": "bd8949fa",
   "metadata": {},
   "source": [
    "### 1. Gender"
   ]
  },
  {
   "cell_type": "code",
   "execution_count": 43,
   "id": "7fa9162c",
   "metadata": {},
   "outputs": [
    {
     "data": {
      "text/plain": [
       "0      M\n",
       "1      M\n",
       "2      M\n",
       "3      M\n",
       "4      M\n",
       "      ..\n",
       "475    F\n",
       "476    F\n",
       "477    F\n",
       "478    F\n",
       "479    F\n",
       "Name: gender, Length: 480, dtype: object"
      ]
     },
     "execution_count": 43,
     "metadata": {},
     "output_type": "execute_result"
    }
   ],
   "source": [
    "df.gender"
   ]
  },
  {
   "cell_type": "code",
   "execution_count": 44,
   "id": "aa534fed",
   "metadata": {
    "scrolled": true
   },
   "outputs": [
    {
     "data": {
      "text/plain": [
       "M    305\n",
       "F    175\n",
       "Name: gender, dtype: int64"
      ]
     },
     "execution_count": 44,
     "metadata": {},
     "output_type": "execute_result"
    }
   ],
   "source": [
    "df.gender.value_counts()"
   ]
  },
  {
   "cell_type": "code",
   "execution_count": 45,
   "id": "64d9f93c",
   "metadata": {},
   "outputs": [
    {
     "data": {
      "text/html": [
       "<div>\n",
       "<style scoped>\n",
       "    .dataframe tbody tr th:only-of-type {\n",
       "        vertical-align: middle;\n",
       "    }\n",
       "\n",
       "    .dataframe tbody tr th {\n",
       "        vertical-align: top;\n",
       "    }\n",
       "\n",
       "    .dataframe thead th {\n",
       "        text-align: right;\n",
       "    }\n",
       "</style>\n",
       "<table border=\"1\" class=\"dataframe\">\n",
       "  <thead>\n",
       "    <tr style=\"text-align: right;\">\n",
       "      <th>Class</th>\n",
       "      <th>0</th>\n",
       "      <th>1</th>\n",
       "      <th>2</th>\n",
       "    </tr>\n",
       "    <tr>\n",
       "      <th>gender</th>\n",
       "      <th></th>\n",
       "      <th></th>\n",
       "      <th></th>\n",
       "    </tr>\n",
       "  </thead>\n",
       "  <tbody>\n",
       "    <tr>\n",
       "      <th>F</th>\n",
       "      <td>24</td>\n",
       "      <td>76</td>\n",
       "      <td>75</td>\n",
       "    </tr>\n",
       "    <tr>\n",
       "      <th>M</th>\n",
       "      <td>103</td>\n",
       "      <td>135</td>\n",
       "      <td>67</td>\n",
       "    </tr>\n",
       "  </tbody>\n",
       "</table>\n",
       "</div>"
      ],
      "text/plain": [
       "Class     0    1   2\n",
       "gender              \n",
       "F        24   76  75\n",
       "M       103  135  67"
      ]
     },
     "execution_count": 45,
     "metadata": {},
     "output_type": "execute_result"
    }
   ],
   "source": [
    "cross = pd.crosstab(df.gender, df.Class)\n",
    "cross"
   ]
  },
  {
   "cell_type": "code",
   "execution_count": 46,
   "id": "4cb76c6c",
   "metadata": {},
   "outputs": [
    {
     "data": {
      "text/plain": [
       "(33.326236065889375,\n",
       " 5.79828805474192e-08,\n",
       " 2,\n",
       " array([[ 46.30208333,  76.92708333,  51.77083333],\n",
       "        [ 80.69791667, 134.07291667,  90.22916667]]))"
      ]
     },
     "execution_count": 46,
     "metadata": {},
     "output_type": "execute_result"
    }
   ],
   "source": [
    "chi2_contingency(cross, correction=False)"
   ]
  },
  {
   "cell_type": "code",
   "execution_count": 47,
   "id": "5132fdf7",
   "metadata": {},
   "outputs": [
    {
     "data": {
      "text/plain": [
       "M    305\n",
       "F    175\n",
       "Name: gender, dtype: int64"
      ]
     },
     "execution_count": 47,
     "metadata": {},
     "output_type": "execute_result"
    }
   ],
   "source": [
    "df.gender.value_counts()"
   ]
  },
  {
   "cell_type": "markdown",
   "id": "be0718db",
   "metadata": {},
   "source": [
    "### 2. NationalITy"
   ]
  },
  {
   "cell_type": "code",
   "execution_count": 48,
   "id": "31695a20",
   "metadata": {},
   "outputs": [
    {
     "data": {
      "text/plain": [
       "0          KW\n",
       "1          KW\n",
       "2          KW\n",
       "3          KW\n",
       "4          KW\n",
       "        ...  \n",
       "475    Jordan\n",
       "476    Jordan\n",
       "477    Jordan\n",
       "478    Jordan\n",
       "479    Jordan\n",
       "Name: NationalITy, Length: 480, dtype: object"
      ]
     },
     "execution_count": 48,
     "metadata": {},
     "output_type": "execute_result"
    }
   ],
   "source": [
    "df.NationalITy"
   ]
  },
  {
   "cell_type": "code",
   "execution_count": 49,
   "id": "41086e3a",
   "metadata": {},
   "outputs": [
    {
     "data": {
      "text/plain": [
       "KW             179\n",
       "Jordan         172\n",
       "Palestine       28\n",
       "Iraq            22\n",
       "lebanon         17\n",
       "Tunis           12\n",
       "SaudiArabia     11\n",
       "Egypt            9\n",
       "Syria            7\n",
       "USA              6\n",
       "Iran             6\n",
       "Lybia            6\n",
       "Morocco          4\n",
       "venzuela         1\n",
       "Name: NationalITy, dtype: int64"
      ]
     },
     "execution_count": 49,
     "metadata": {},
     "output_type": "execute_result"
    }
   ],
   "source": [
    "df.NationalITy.value_counts()"
   ]
  },
  {
   "cell_type": "code",
   "execution_count": 50,
   "id": "5aab59f8",
   "metadata": {
    "scrolled": true
   },
   "outputs": [
    {
     "data": {
      "text/html": [
       "<div>\n",
       "<style scoped>\n",
       "    .dataframe tbody tr th:only-of-type {\n",
       "        vertical-align: middle;\n",
       "    }\n",
       "\n",
       "    .dataframe tbody tr th {\n",
       "        vertical-align: top;\n",
       "    }\n",
       "\n",
       "    .dataframe thead th {\n",
       "        text-align: right;\n",
       "    }\n",
       "</style>\n",
       "<table border=\"1\" class=\"dataframe\">\n",
       "  <thead>\n",
       "    <tr style=\"text-align: right;\">\n",
       "      <th></th>\n",
       "      <th>df</th>\n",
       "      <th>sum_sq</th>\n",
       "      <th>mean_sq</th>\n",
       "      <th>F</th>\n",
       "      <th>PR(&gt;F)</th>\n",
       "    </tr>\n",
       "  </thead>\n",
       "  <tbody>\n",
       "    <tr>\n",
       "      <th>NationalITy</th>\n",
       "      <td>13.0</td>\n",
       "      <td>34.475099</td>\n",
       "      <td>2.651931</td>\n",
       "      <td>5.279928</td>\n",
       "      <td>7.239098e-09</td>\n",
       "    </tr>\n",
       "    <tr>\n",
       "      <th>Residual</th>\n",
       "      <td>466.0</td>\n",
       "      <td>234.056151</td>\n",
       "      <td>0.502266</td>\n",
       "      <td>NaN</td>\n",
       "      <td>NaN</td>\n",
       "    </tr>\n",
       "  </tbody>\n",
       "</table>\n",
       "</div>"
      ],
      "text/plain": [
       "                df      sum_sq   mean_sq         F        PR(>F)\n",
       "NationalITy   13.0   34.475099  2.651931  5.279928  7.239098e-09\n",
       "Residual     466.0  234.056151  0.502266       NaN           NaN"
      ]
     },
     "execution_count": 50,
     "metadata": {},
     "output_type": "execute_result"
    }
   ],
   "source": [
    "mod = ols('Class ~ NationalITy', data=df).fit()\n",
    "aov_table = sm.stats.anova_lm(mod)\n",
    "aov_table"
   ]
  },
  {
   "cell_type": "code",
   "execution_count": 51,
   "id": "d3b84c83",
   "metadata": {
    "scrolled": false
   },
   "outputs": [
    {
     "name": "stdout",
     "output_type": "stream",
     "text": [
      "     Multiple Comparison of Means - Tukey HSD, FWER=0.05      \n",
      "==============================================================\n",
      "   group1      group2   meandiff p-adj   lower   upper  reject\n",
      "--------------------------------------------------------------\n",
      "      Egypt        Iran  -0.2222    0.9 -1.4816  1.0372  False\n",
      "      Egypt        Iraq   0.7475  0.303  -0.198   1.693  False\n",
      "      Egypt      Jordan   0.2041    0.9  -0.613  1.0212  False\n",
      "      Egypt          KW  -0.0677    0.9  -0.884  0.7486  False\n",
      "      Egypt       Lybia  -0.8889 0.4972 -2.1483  0.3705  False\n",
      "      Egypt     Morocco   0.1111    0.9 -1.3248   1.547  False\n",
      "      Egypt   Palestine   0.5397  0.746 -0.3759  1.4553  False\n",
      "      Egypt SaudiArabia   0.5657 0.8801 -0.5084  1.6397  False\n",
      "      Egypt       Syria   0.1111    0.9 -1.0931  1.3153  False\n",
      "      Egypt       Tunis   0.0278    0.9 -1.0259  1.0815  False\n",
      "      Egypt         USA   0.4444    0.9  -0.815  1.7038  False\n",
      "      Egypt     lebanon   0.5229 0.8712 -0.4622  1.5079  False\n",
      "      Egypt    venzuela   1.1111    0.9 -1.4077  3.6299  False\n",
      "       Iran        Iraq   0.9697 0.1528 -0.1308  2.0702  False\n",
      "       Iran      Jordan   0.4264    0.9  -0.566  1.4188  False\n",
      "       Iran          KW   0.1546    0.9 -0.8372  1.1463  False\n",
      "       Iran       Lybia  -0.6667    0.9 -2.0463  0.7129  False\n",
      "       Iran     Morocco   0.3333    0.9 -1.2091  1.8758  False\n",
      "       Iran   Palestine   0.7619 0.4908 -0.3131  1.8369  False\n",
      "       Iran SaudiArabia   0.7879 0.6172 -0.4249  2.0006  False\n",
      "       Iran       Syria   0.3333    0.9 -0.9961  1.6627  False\n",
      "       Iran       Tunis     0.25    0.9 -0.9448  1.4448  False\n",
      "       Iran         USA   0.6667    0.9 -0.7129  2.0463  False\n",
      "       Iran     lebanon   0.7451 0.6023 -0.3896  1.8798  False\n",
      "       Iran    venzuela   1.3333    0.9 -1.2477  3.9143  False\n",
      "       Iraq      Jordan  -0.5433 0.0479 -1.0844 -0.0023   True\n",
      "       Iraq          KW  -0.8151  0.001  -1.355 -0.2753   True\n",
      "       Iraq       Lybia  -1.6364  0.001 -2.7369 -0.5358   True\n",
      "       Iraq     Morocco  -0.6364    0.9 -1.9352  0.6625  False\n",
      "       Iraq   Palestine  -0.2078    0.9 -0.8886   0.473  False\n",
      "       Iraq SaudiArabia  -0.1818    0.9 -1.0642  0.7006  False\n",
      "       Iraq       Syria  -0.6364 0.6941 -1.6733  0.4006  False\n",
      "       Iraq       Tunis  -0.7197 0.2136 -1.5772  0.1378  False\n",
      "       Iraq         USA   -0.303    0.9 -1.4036  0.7975  False\n",
      "       Iraq     lebanon  -0.2246    0.9 -0.9962   0.547  False\n",
      "       Iraq    venzuela   0.3636    0.9 -2.0796  2.8069  False\n",
      "     Jordan          KW  -0.2718 0.0246 -0.5269 -0.0167   True\n",
      "     Jordan       Lybia   -1.093 0.0162 -2.0854 -0.1006   True\n",
      "     Jordan     Morocco   -0.093    0.9 -1.3016  1.1156  False\n",
      "     Jordan   Palestine   0.3355  0.533 -0.1514  0.8225  False\n",
      "     Jordan SaudiArabia   0.3615    0.9 -0.3816  1.1047  False\n",
      "     Jordan       Syria   -0.093    0.9 -1.0144  0.8283  False\n",
      "     Jordan       Tunis  -0.1764    0.9 -0.8898  0.5371  False\n",
      "     Jordan         USA   0.2403    0.9 -0.7521  1.2327  False\n",
      "     Jordan     lebanon   0.3187 0.8843 -0.2888  0.9263  False\n",
      "     Jordan    venzuela    0.907    0.9 -1.4895  3.3035  False\n",
      "         KW       Lybia  -0.8212 0.2325  -1.813  0.1705  False\n",
      "         KW     Morocco   0.1788    0.9 -1.0293  1.3868  False\n",
      "         KW   Palestine   0.6073 0.0024  0.1217   1.093   True\n",
      "         KW SaudiArabia   0.6333 0.1915  -0.109  1.3756  False\n",
      "         KW       Syria   0.1788    0.9 -0.7419  1.0994  False\n",
      "         KW       Tunis   0.0954    0.9 -0.6171   0.808  False\n",
      "         KW         USA   0.5121    0.9 -0.4796  1.5038  False\n",
      "         KW     lebanon   0.5905 0.0656 -0.0159   1.197  False\n",
      "         KW    venzuela   1.1788    0.9 -1.2174   3.575  False\n",
      "      Lybia     Morocco      1.0 0.6201 -0.5424  2.5424  False\n",
      "      Lybia   Palestine   1.4286  0.001  0.3536  2.5035   True\n",
      "      Lybia SaudiArabia   1.4545 0.0047  0.2418  2.6673   True\n",
      "      Lybia       Syria      1.0 0.3886 -0.3294  2.3294  False\n",
      "      Lybia       Tunis   0.9167 0.3531 -0.2781  2.1114  False\n",
      "      Lybia         USA   1.3333 0.0706 -0.0463  2.7129  False\n",
      "      Lybia     lebanon   1.4118 0.0026  0.2771  2.5465   True\n",
      "      Lybia    venzuela      2.0 0.3357  -0.581   4.581  False\n",
      "    Morocco   Palestine   0.4286    0.9 -0.8487  1.7058  False\n",
      "    Morocco SaudiArabia   0.4545    0.9 -0.9406  1.8497  False\n",
      "    Morocco       Syria      0.0    0.9 -1.4977  1.4977  False\n",
      "    Morocco       Tunis  -0.0833    0.9 -1.4629  1.2963  False\n",
      "    Morocco         USA   0.3333    0.9 -1.2091  1.8758  False\n",
      "    Morocco     lebanon   0.4118    0.9 -0.9161  1.7397  False\n",
      "    Morocco    venzuela      1.0    0.9 -1.6716  3.6716  False\n",
      "  Palestine SaudiArabia    0.026    0.9 -0.8243  0.8763  False\n",
      "  Palestine       Syria  -0.4286    0.9 -1.4383  0.5812  False\n",
      "  Palestine       Tunis  -0.5119 0.6787 -1.3364  0.3126  False\n",
      "  Palestine         USA  -0.0952    0.9 -1.1702  0.9797  False\n",
      "  Palestine     lebanon  -0.0168    0.9 -0.7515  0.7179  False\n",
      "  Palestine    venzuela   0.5714    0.9 -1.8604  3.0033  False\n",
      "SaudiArabia       Syria  -0.4545    0.9 -1.6099  0.7008  False\n",
      "SaudiArabia       Tunis  -0.5379 0.8532 -1.5353  0.4596  False\n",
      "SaudiArabia         USA  -0.1212    0.9 -1.3339  1.0915  False\n",
      "SaudiArabia     lebanon  -0.0428    0.9 -0.9674  0.8819  False\n",
      "SaudiArabia    venzuela   0.5455    0.9 -1.9503  3.0412  False\n",
      "      Syria       Tunis  -0.0833    0.9 -1.2198  1.0531  False\n",
      "      Syria         USA   0.3333    0.9 -0.9961  1.6627  False\n",
      "      Syria     lebanon   0.4118    0.9 -0.6614  1.4849  False\n",
      "      Syria    venzuela      1.0    0.9 -1.5545  3.5545  False\n",
      "      Tunis         USA   0.4167    0.9 -0.7781  1.6114  False\n",
      "      Tunis     lebanon   0.4951 0.8312 -0.4058   1.396  False\n",
      "      Tunis    venzuela   1.0833    0.9 -1.4038  3.5704  False\n",
      "        USA     lebanon   0.0784    0.9 -1.0563  1.2131  False\n",
      "        USA    venzuela   0.6667    0.9 -1.9143  3.2477  False\n",
      "    lebanon    venzuela   0.5882    0.9 -1.8706  3.0471  False\n",
      "--------------------------------------------------------------\n"
     ]
    }
   ],
   "source": [
    "tukey = pairwise_tukeyhsd(df.Class, df.NationalITy, alpha = 0.05)\n",
    "print(tukey)"
   ]
  },
  {
   "cell_type": "code",
   "execution_count": 52,
   "id": "4058022c",
   "metadata": {},
   "outputs": [
    {
     "data": {
      "text/plain": [
       "KW             179\n",
       "Jordan         172\n",
       "Palestine       28\n",
       "Iraq            22\n",
       "lebanon         17\n",
       "Tunis           12\n",
       "SaudiArabia     11\n",
       "Egypt            9\n",
       "Syria            7\n",
       "USA              6\n",
       "Iran             6\n",
       "Lybia            6\n",
       "Morocco          4\n",
       "venzuela         1\n",
       "Name: NationalITy, dtype: int64"
      ]
     },
     "execution_count": 52,
     "metadata": {},
     "output_type": "execute_result"
    }
   ],
   "source": [
    "df.NationalITy.value_counts()"
   ]
  },
  {
   "cell_type": "code",
   "execution_count": 53,
   "id": "fbca2965",
   "metadata": {
    "scrolled": true
   },
   "outputs": [
    {
     "data": {
      "text/html": [
       "<div>\n",
       "<style scoped>\n",
       "    .dataframe tbody tr th:only-of-type {\n",
       "        vertical-align: middle;\n",
       "    }\n",
       "\n",
       "    .dataframe tbody tr th {\n",
       "        vertical-align: top;\n",
       "    }\n",
       "\n",
       "    .dataframe thead th {\n",
       "        text-align: right;\n",
       "    }\n",
       "</style>\n",
       "<table border=\"1\" class=\"dataframe\">\n",
       "  <thead>\n",
       "    <tr style=\"text-align: right;\">\n",
       "      <th></th>\n",
       "      <th>df</th>\n",
       "      <th>sum_sq</th>\n",
       "      <th>mean_sq</th>\n",
       "      <th>F</th>\n",
       "      <th>PR(&gt;F)</th>\n",
       "    </tr>\n",
       "  </thead>\n",
       "  <tbody>\n",
       "    <tr>\n",
       "      <th>NationalITy</th>\n",
       "      <td>13.0</td>\n",
       "      <td>34.475099</td>\n",
       "      <td>2.651931</td>\n",
       "      <td>5.279928</td>\n",
       "      <td>7.239098e-09</td>\n",
       "    </tr>\n",
       "    <tr>\n",
       "      <th>Residual</th>\n",
       "      <td>466.0</td>\n",
       "      <td>234.056151</td>\n",
       "      <td>0.502266</td>\n",
       "      <td>NaN</td>\n",
       "      <td>NaN</td>\n",
       "    </tr>\n",
       "  </tbody>\n",
       "</table>\n",
       "</div>"
      ],
      "text/plain": [
       "                df      sum_sq   mean_sq         F        PR(>F)\n",
       "NationalITy   13.0   34.475099  2.651931  5.279928  7.239098e-09\n",
       "Residual     466.0  234.056151  0.502266       NaN           NaN"
      ]
     },
     "execution_count": 53,
     "metadata": {},
     "output_type": "execute_result"
    }
   ],
   "source": [
    "mod = ols('Class ~ NationalITy', data=df).fit()\n",
    "aov_table = sm.stats.anova_lm(mod)\n",
    "aov_table"
   ]
  },
  {
   "cell_type": "code",
   "execution_count": 54,
   "id": "45a08414",
   "metadata": {
    "scrolled": true
   },
   "outputs": [
    {
     "name": "stdout",
     "output_type": "stream",
     "text": [
      "     Multiple Comparison of Means - Tukey HSD, FWER=0.05      \n",
      "==============================================================\n",
      "   group1      group2   meandiff p-adj   lower   upper  reject\n",
      "--------------------------------------------------------------\n",
      "      Egypt        Iran  -0.2222    0.9 -1.4816  1.0372  False\n",
      "      Egypt        Iraq   0.7475  0.303  -0.198   1.693  False\n",
      "      Egypt      Jordan   0.2041    0.9  -0.613  1.0212  False\n",
      "      Egypt          KW  -0.0677    0.9  -0.884  0.7486  False\n",
      "      Egypt       Lybia  -0.8889 0.4972 -2.1483  0.3705  False\n",
      "      Egypt     Morocco   0.1111    0.9 -1.3248   1.547  False\n",
      "      Egypt   Palestine   0.5397  0.746 -0.3759  1.4553  False\n",
      "      Egypt SaudiArabia   0.5657 0.8801 -0.5084  1.6397  False\n",
      "      Egypt       Syria   0.1111    0.9 -1.0931  1.3153  False\n",
      "      Egypt       Tunis   0.0278    0.9 -1.0259  1.0815  False\n",
      "      Egypt         USA   0.4444    0.9  -0.815  1.7038  False\n",
      "      Egypt     lebanon   0.5229 0.8712 -0.4622  1.5079  False\n",
      "      Egypt    venzuela   1.1111    0.9 -1.4077  3.6299  False\n",
      "       Iran        Iraq   0.9697 0.1528 -0.1308  2.0702  False\n",
      "       Iran      Jordan   0.4264    0.9  -0.566  1.4188  False\n",
      "       Iran          KW   0.1546    0.9 -0.8372  1.1463  False\n",
      "       Iran       Lybia  -0.6667    0.9 -2.0463  0.7129  False\n",
      "       Iran     Morocco   0.3333    0.9 -1.2091  1.8758  False\n",
      "       Iran   Palestine   0.7619 0.4908 -0.3131  1.8369  False\n",
      "       Iran SaudiArabia   0.7879 0.6172 -0.4249  2.0006  False\n",
      "       Iran       Syria   0.3333    0.9 -0.9961  1.6627  False\n",
      "       Iran       Tunis     0.25    0.9 -0.9448  1.4448  False\n",
      "       Iran         USA   0.6667    0.9 -0.7129  2.0463  False\n",
      "       Iran     lebanon   0.7451 0.6023 -0.3896  1.8798  False\n",
      "       Iran    venzuela   1.3333    0.9 -1.2477  3.9143  False\n",
      "       Iraq      Jordan  -0.5433 0.0479 -1.0844 -0.0023   True\n",
      "       Iraq          KW  -0.8151  0.001  -1.355 -0.2753   True\n",
      "       Iraq       Lybia  -1.6364  0.001 -2.7369 -0.5358   True\n",
      "       Iraq     Morocco  -0.6364    0.9 -1.9352  0.6625  False\n",
      "       Iraq   Palestine  -0.2078    0.9 -0.8886   0.473  False\n",
      "       Iraq SaudiArabia  -0.1818    0.9 -1.0642  0.7006  False\n",
      "       Iraq       Syria  -0.6364 0.6941 -1.6733  0.4006  False\n",
      "       Iraq       Tunis  -0.7197 0.2136 -1.5772  0.1378  False\n",
      "       Iraq         USA   -0.303    0.9 -1.4036  0.7975  False\n",
      "       Iraq     lebanon  -0.2246    0.9 -0.9962   0.547  False\n",
      "       Iraq    venzuela   0.3636    0.9 -2.0796  2.8069  False\n",
      "     Jordan          KW  -0.2718 0.0246 -0.5269 -0.0167   True\n",
      "     Jordan       Lybia   -1.093 0.0162 -2.0854 -0.1006   True\n",
      "     Jordan     Morocco   -0.093    0.9 -1.3016  1.1156  False\n",
      "     Jordan   Palestine   0.3355  0.533 -0.1514  0.8225  False\n",
      "     Jordan SaudiArabia   0.3615    0.9 -0.3816  1.1047  False\n",
      "     Jordan       Syria   -0.093    0.9 -1.0144  0.8283  False\n",
      "     Jordan       Tunis  -0.1764    0.9 -0.8898  0.5371  False\n",
      "     Jordan         USA   0.2403    0.9 -0.7521  1.2327  False\n",
      "     Jordan     lebanon   0.3187 0.8843 -0.2888  0.9263  False\n",
      "     Jordan    venzuela    0.907    0.9 -1.4895  3.3035  False\n",
      "         KW       Lybia  -0.8212 0.2325  -1.813  0.1705  False\n",
      "         KW     Morocco   0.1788    0.9 -1.0293  1.3868  False\n",
      "         KW   Palestine   0.6073 0.0024  0.1217   1.093   True\n",
      "         KW SaudiArabia   0.6333 0.1915  -0.109  1.3756  False\n",
      "         KW       Syria   0.1788    0.9 -0.7419  1.0994  False\n",
      "         KW       Tunis   0.0954    0.9 -0.6171   0.808  False\n",
      "         KW         USA   0.5121    0.9 -0.4796  1.5038  False\n",
      "         KW     lebanon   0.5905 0.0656 -0.0159   1.197  False\n",
      "         KW    venzuela   1.1788    0.9 -1.2174   3.575  False\n",
      "      Lybia     Morocco      1.0 0.6201 -0.5424  2.5424  False\n",
      "      Lybia   Palestine   1.4286  0.001  0.3536  2.5035   True\n",
      "      Lybia SaudiArabia   1.4545 0.0047  0.2418  2.6673   True\n",
      "      Lybia       Syria      1.0 0.3886 -0.3294  2.3294  False\n",
      "      Lybia       Tunis   0.9167 0.3531 -0.2781  2.1114  False\n",
      "      Lybia         USA   1.3333 0.0706 -0.0463  2.7129  False\n",
      "      Lybia     lebanon   1.4118 0.0026  0.2771  2.5465   True\n",
      "      Lybia    venzuela      2.0 0.3357  -0.581   4.581  False\n",
      "    Morocco   Palestine   0.4286    0.9 -0.8487  1.7058  False\n",
      "    Morocco SaudiArabia   0.4545    0.9 -0.9406  1.8497  False\n",
      "    Morocco       Syria      0.0    0.9 -1.4977  1.4977  False\n",
      "    Morocco       Tunis  -0.0833    0.9 -1.4629  1.2963  False\n",
      "    Morocco         USA   0.3333    0.9 -1.2091  1.8758  False\n",
      "    Morocco     lebanon   0.4118    0.9 -0.9161  1.7397  False\n",
      "    Morocco    venzuela      1.0    0.9 -1.6716  3.6716  False\n",
      "  Palestine SaudiArabia    0.026    0.9 -0.8243  0.8763  False\n",
      "  Palestine       Syria  -0.4286    0.9 -1.4383  0.5812  False\n",
      "  Palestine       Tunis  -0.5119 0.6787 -1.3364  0.3126  False\n",
      "  Palestine         USA  -0.0952    0.9 -1.1702  0.9797  False\n",
      "  Palestine     lebanon  -0.0168    0.9 -0.7515  0.7179  False\n",
      "  Palestine    venzuela   0.5714    0.9 -1.8604  3.0033  False\n",
      "SaudiArabia       Syria  -0.4545    0.9 -1.6099  0.7008  False\n",
      "SaudiArabia       Tunis  -0.5379 0.8532 -1.5353  0.4596  False\n",
      "SaudiArabia         USA  -0.1212    0.9 -1.3339  1.0915  False\n",
      "SaudiArabia     lebanon  -0.0428    0.9 -0.9674  0.8819  False\n",
      "SaudiArabia    venzuela   0.5455    0.9 -1.9503  3.0412  False\n",
      "      Syria       Tunis  -0.0833    0.9 -1.2198  1.0531  False\n",
      "      Syria         USA   0.3333    0.9 -0.9961  1.6627  False\n",
      "      Syria     lebanon   0.4118    0.9 -0.6614  1.4849  False\n",
      "      Syria    venzuela      1.0    0.9 -1.5545  3.5545  False\n",
      "      Tunis         USA   0.4167    0.9 -0.7781  1.6114  False\n",
      "      Tunis     lebanon   0.4951 0.8312 -0.4058   1.396  False\n",
      "      Tunis    venzuela   1.0833    0.9 -1.4038  3.5704  False\n",
      "        USA     lebanon   0.0784    0.9 -1.0563  1.2131  False\n",
      "        USA    venzuela   0.6667    0.9 -1.9143  3.2477  False\n",
      "    lebanon    venzuela   0.5882    0.9 -1.8706  3.0471  False\n",
      "--------------------------------------------------------------\n"
     ]
    }
   ],
   "source": [
    "tukey = pairwise_tukeyhsd(df.Class, df.NationalITy, alpha = 0.05)\n",
    "print(tukey)"
   ]
  },
  {
   "cell_type": "code",
   "execution_count": 55,
   "id": "2f81881a",
   "metadata": {},
   "outputs": [
    {
     "data": {
      "text/plain": [
       "KW             179\n",
       "Jordan         172\n",
       "Palestine       28\n",
       "Iraq            22\n",
       "lebanon         17\n",
       "Tunis           12\n",
       "SaudiArabia     11\n",
       "Egypt            9\n",
       "Syria            7\n",
       "USA              6\n",
       "Iran             6\n",
       "Lybia            6\n",
       "Morocco          4\n",
       "venzuela         1\n",
       "Name: NationalITy, dtype: int64"
      ]
     },
     "execution_count": 55,
     "metadata": {},
     "output_type": "execute_result"
    }
   ],
   "source": [
    "df.NationalITy.value_counts()"
   ]
  },
  {
   "cell_type": "markdown",
   "id": "06a70de6",
   "metadata": {},
   "source": [
    "### StageID"
   ]
  },
  {
   "cell_type": "code",
   "execution_count": 56,
   "id": "e62c2a2d",
   "metadata": {},
   "outputs": [
    {
     "data": {
      "text/plain": [
       "0        lowerlevel\n",
       "1        lowerlevel\n",
       "2        lowerlevel\n",
       "3        lowerlevel\n",
       "4        lowerlevel\n",
       "           ...     \n",
       "475    MiddleSchool\n",
       "476    MiddleSchool\n",
       "477    MiddleSchool\n",
       "478    MiddleSchool\n",
       "479    MiddleSchool\n",
       "Name: StageID, Length: 480, dtype: object"
      ]
     },
     "execution_count": 56,
     "metadata": {},
     "output_type": "execute_result"
    }
   ],
   "source": [
    "df.StageID"
   ]
  },
  {
   "cell_type": "code",
   "execution_count": 57,
   "id": "34fcd7e4",
   "metadata": {
    "scrolled": true
   },
   "outputs": [
    {
     "data": {
      "text/plain": [
       "MiddleSchool    248\n",
       "lowerlevel      199\n",
       "HighSchool       33\n",
       "Name: StageID, dtype: int64"
      ]
     },
     "execution_count": 57,
     "metadata": {},
     "output_type": "execute_result"
    }
   ],
   "source": [
    "df.StageID.value_counts()"
   ]
  },
  {
   "cell_type": "code",
   "execution_count": 58,
   "id": "06462e09",
   "metadata": {},
   "outputs": [
    {
     "data": {
      "text/html": [
       "<div>\n",
       "<style scoped>\n",
       "    .dataframe tbody tr th:only-of-type {\n",
       "        vertical-align: middle;\n",
       "    }\n",
       "\n",
       "    .dataframe tbody tr th {\n",
       "        vertical-align: top;\n",
       "    }\n",
       "\n",
       "    .dataframe thead th {\n",
       "        text-align: right;\n",
       "    }\n",
       "</style>\n",
       "<table border=\"1\" class=\"dataframe\">\n",
       "  <thead>\n",
       "    <tr style=\"text-align: right;\">\n",
       "      <th></th>\n",
       "      <th>df</th>\n",
       "      <th>sum_sq</th>\n",
       "      <th>mean_sq</th>\n",
       "      <th>F</th>\n",
       "      <th>PR(&gt;F)</th>\n",
       "    </tr>\n",
       "  </thead>\n",
       "  <tbody>\n",
       "    <tr>\n",
       "      <th>StageID</th>\n",
       "      <td>2.0</td>\n",
       "      <td>2.258103</td>\n",
       "      <td>1.129051</td>\n",
       "      <td>2.022575</td>\n",
       "      <td>0.133447</td>\n",
       "    </tr>\n",
       "    <tr>\n",
       "      <th>Residual</th>\n",
       "      <td>477.0</td>\n",
       "      <td>266.273147</td>\n",
       "      <td>0.558225</td>\n",
       "      <td>NaN</td>\n",
       "      <td>NaN</td>\n",
       "    </tr>\n",
       "  </tbody>\n",
       "</table>\n",
       "</div>"
      ],
      "text/plain": [
       "             df      sum_sq   mean_sq         F    PR(>F)\n",
       "StageID     2.0    2.258103  1.129051  2.022575  0.133447\n",
       "Residual  477.0  266.273147  0.558225       NaN       NaN"
      ]
     },
     "execution_count": 58,
     "metadata": {},
     "output_type": "execute_result"
    }
   ],
   "source": [
    "mod = ols('Class ~ StageID', data=df).fit()\n",
    "aov_table = sm.stats.anova_lm(mod)\n",
    "aov_table"
   ]
  },
  {
   "cell_type": "code",
   "execution_count": 59,
   "id": "197136fc",
   "metadata": {},
   "outputs": [],
   "source": [
    "df.drop(columns=['StageID'], axis=1, inplace=True)"
   ]
  },
  {
   "cell_type": "markdown",
   "id": "bab71d2c",
   "metadata": {},
   "source": [
    "### Topic"
   ]
  },
  {
   "cell_type": "code",
   "execution_count": 60,
   "id": "e6815d78",
   "metadata": {},
   "outputs": [
    {
     "data": {
      "text/plain": [
       "0             IT\n",
       "1             IT\n",
       "2             IT\n",
       "3             IT\n",
       "4             IT\n",
       "         ...    \n",
       "475    Chemistry\n",
       "476      Geology\n",
       "477      Geology\n",
       "478      History\n",
       "479      History\n",
       "Name: Topic, Length: 480, dtype: object"
      ]
     },
     "execution_count": 60,
     "metadata": {},
     "output_type": "execute_result"
    }
   ],
   "source": [
    "df.Topic"
   ]
  },
  {
   "cell_type": "code",
   "execution_count": 61,
   "id": "44afd3c8",
   "metadata": {},
   "outputs": [
    {
     "data": {
      "text/plain": [
       "IT           95\n",
       "French       65\n",
       "Arabic       59\n",
       "Science      51\n",
       "English      45\n",
       "Biology      30\n",
       "Spanish      25\n",
       "Chemistry    24\n",
       "Geology      24\n",
       "Quran        22\n",
       "Math         21\n",
       "History      19\n",
       "Name: Topic, dtype: int64"
      ]
     },
     "execution_count": 61,
     "metadata": {},
     "output_type": "execute_result"
    }
   ],
   "source": [
    "df.Topic.value_counts()"
   ]
  },
  {
   "cell_type": "code",
   "execution_count": 62,
   "id": "c125c2dd",
   "metadata": {
    "scrolled": true
   },
   "outputs": [
    {
     "data": {
      "text/html": [
       "<div>\n",
       "<style scoped>\n",
       "    .dataframe tbody tr th:only-of-type {\n",
       "        vertical-align: middle;\n",
       "    }\n",
       "\n",
       "    .dataframe tbody tr th {\n",
       "        vertical-align: top;\n",
       "    }\n",
       "\n",
       "    .dataframe thead th {\n",
       "        text-align: right;\n",
       "    }\n",
       "</style>\n",
       "<table border=\"1\" class=\"dataframe\">\n",
       "  <thead>\n",
       "    <tr style=\"text-align: right;\">\n",
       "      <th></th>\n",
       "      <th>df</th>\n",
       "      <th>sum_sq</th>\n",
       "      <th>mean_sq</th>\n",
       "      <th>F</th>\n",
       "      <th>PR(&gt;F)</th>\n",
       "    </tr>\n",
       "  </thead>\n",
       "  <tbody>\n",
       "    <tr>\n",
       "      <th>Topic</th>\n",
       "      <td>11.0</td>\n",
       "      <td>14.317128</td>\n",
       "      <td>1.301557</td>\n",
       "      <td>2.396125</td>\n",
       "      <td>0.006746</td>\n",
       "    </tr>\n",
       "    <tr>\n",
       "      <th>Residual</th>\n",
       "      <td>468.0</td>\n",
       "      <td>254.214122</td>\n",
       "      <td>0.543193</td>\n",
       "      <td>NaN</td>\n",
       "      <td>NaN</td>\n",
       "    </tr>\n",
       "  </tbody>\n",
       "</table>\n",
       "</div>"
      ],
      "text/plain": [
       "             df      sum_sq   mean_sq         F    PR(>F)\n",
       "Topic      11.0   14.317128  1.301557  2.396125  0.006746\n",
       "Residual  468.0  254.214122  0.543193       NaN       NaN"
      ]
     },
     "execution_count": 62,
     "metadata": {},
     "output_type": "execute_result"
    }
   ],
   "source": [
    "mod = ols('Class ~ Topic', data=df).fit()\n",
    "aov_table = sm.stats.anova_lm(mod)\n",
    "aov_table"
   ]
  },
  {
   "cell_type": "code",
   "execution_count": 63,
   "id": "2d9da9af",
   "metadata": {},
   "outputs": [
    {
     "name": "stdout",
     "output_type": "stream",
     "text": [
      "   Multiple Comparison of Means - Tukey HSD, FWER=0.05    \n",
      "==========================================================\n",
      "  group1    group2  meandiff p-adj   lower   upper  reject\n",
      "----------------------------------------------------------\n",
      "   Arabic   Biology   0.3661 0.5338 -0.1768   0.909  False\n",
      "   Arabic Chemistry   0.0494    0.9 -0.5367  0.6356  False\n",
      "   Arabic   English   0.1217    0.9 -0.3575  0.6008  False\n",
      "   Arabic    French   0.0276    0.9 -0.4077   0.463  False\n",
      "   Arabic   Geology   0.2161    0.9   -0.37  0.8022  False\n",
      "   Arabic   History   0.0187    0.9 -0.6199  0.6573  False\n",
      "   Arabic        IT   -0.276 0.5064 -0.6773  0.1253  False\n",
      "   Arabic      Math  -0.0815    0.9 -0.6967  0.5337  False\n",
      "   Arabic     Quran    0.057    0.9 -0.5478  0.6618  False\n",
      "   Arabic   Science   0.0837    0.9 -0.3791  0.5466  False\n",
      "   Arabic   Spanish  -0.1539    0.9 -0.7316  0.4238  False\n",
      "  Biology Chemistry  -0.3167    0.9 -0.9797  0.3463  False\n",
      "  Biology   English  -0.2444    0.9 -0.8151  0.3262  False\n",
      "  Biology    French  -0.3385 0.6178 -0.8728  0.1959  False\n",
      "  Biology   Geology    -0.15    0.9  -0.813   0.513  False\n",
      "  Biology   History  -0.3474    0.9 -1.0572  0.3624  False\n",
      "  Biology        IT  -0.6421 0.0022 -1.1491 -0.1351   True\n",
      "  Biology      Math  -0.4476 0.5841 -1.1364  0.2412  False\n",
      "  Biology     Quran  -0.3091    0.9 -0.9886  0.3704  False\n",
      "  Biology   Science  -0.2824  0.877 -0.8394  0.2747  False\n",
      "  Biology   Spanish    -0.52 0.2799 -1.1756  0.1356  False\n",
      "Chemistry   English   0.0722    0.9 -0.5397  0.6841  False\n",
      "Chemistry    French  -0.0218    0.9    -0.6  0.5565  False\n",
      "Chemistry   Geology   0.1667    0.9 -0.5322  0.8655  False\n",
      "Chemistry   History  -0.0307    0.9 -0.7741  0.7127  False\n",
      "Chemistry        IT  -0.3254   0.71 -0.8785  0.2276  False\n",
      "Chemistry      Math   -0.131    0.9 -0.8543  0.5924  False\n",
      "Chemistry     Quran   0.0076    0.9  -0.707  0.7221  False\n",
      "Chemistry   Science   0.0343    0.9  -0.565  0.6336  False\n",
      "Chemistry   Spanish  -0.2033    0.9 -0.8952  0.4885  False\n",
      "  English    French   -0.094    0.9 -0.5635  0.3755  False\n",
      "  English   Geology   0.0944    0.9 -0.5175  0.7064  False\n",
      "  English   History  -0.1029    0.9 -0.7653  0.5594  False\n",
      "  English        IT  -0.3977 0.1178 -0.8358  0.0404  False\n",
      "  English      Math  -0.2032    0.9  -0.843  0.4366  False\n",
      "  English     Quran  -0.0646    0.9 -0.6944  0.5652  False\n",
      "  English   Science  -0.0379    0.9  -0.533  0.4572  False\n",
      "  English   Spanish  -0.2756    0.9 -0.8794  0.3283  False\n",
      "   French   Geology   0.1885    0.9 -0.3898  0.7667  False\n",
      "   French   History  -0.0089    0.9 -0.6403  0.6225  False\n",
      "   French        IT  -0.3036 0.3065 -0.6933  0.0861  False\n",
      "   French      Math  -0.1092    0.9 -0.7168  0.4985  False\n",
      "   French     Quran   0.0294    0.9 -0.5678  0.6265  False\n",
      "   French   Science   0.0561    0.9 -0.3968   0.509  False\n",
      "   French   Spanish  -0.1815    0.9 -0.7513  0.3882  False\n",
      "  Geology   History  -0.1974    0.9 -0.9408  0.5461  False\n",
      "  Geology        IT  -0.4921 0.1359 -1.0452   0.061  False\n",
      "  Geology      Math  -0.2976    0.9  -1.021  0.4258  False\n",
      "  Geology     Quran  -0.1591    0.9 -0.8737  0.5555  False\n",
      "  Geology   Science  -0.1324    0.9 -0.7316  0.4669  False\n",
      "  Geology   Spanish    -0.37 0.8198 -1.0618  0.3218  False\n",
      "  History        IT  -0.2947    0.9 -0.9031  0.3137  False\n",
      "  History      Math  -0.1003    0.9 -0.8668  0.6663  False\n",
      "  History     Quran   0.0383    0.9 -0.7199  0.7965  False\n",
      "  History   Science    0.065    0.9 -0.5857  0.7157  False\n",
      "  History   Spanish  -0.1726    0.9 -0.9095  0.5642  False\n",
      "       IT      Math   0.1945    0.9 -0.3893  0.7783  False\n",
      "       IT     Quran    0.333 0.7244 -0.2398  0.9058  False\n",
      "       IT   Science   0.3598 0.1781 -0.0605    0.78  False\n",
      "       IT   Spanish   0.1221    0.9 -0.4221  0.6663  False\n",
      "     Math     Quran   0.1385    0.9 -0.6001  0.8771  False\n",
      "     Math   Science   0.1653    0.9 -0.4624   0.793  False\n",
      "     Math   Spanish  -0.0724    0.9  -0.789  0.6442  False\n",
      "    Quran   Science   0.0267    0.9 -0.5908  0.6443  False\n",
      "    Quran   Spanish  -0.2109    0.9 -0.9186  0.4968  False\n",
      "  Science   Spanish  -0.2376    0.9 -0.8287  0.3534  False\n",
      "----------------------------------------------------------\n"
     ]
    }
   ],
   "source": [
    "tukey = pairwise_tukeyhsd(df.Class, df.Topic, alpha = 0.05)\n",
    "print(tukey)"
   ]
  },
  {
   "cell_type": "code",
   "execution_count": 64,
   "id": "0d253fa7",
   "metadata": {},
   "outputs": [
    {
     "data": {
      "text/plain": [
       "IT           95\n",
       "French       65\n",
       "Arabic       59\n",
       "Science      51\n",
       "English      45\n",
       "Biology      30\n",
       "Spanish      25\n",
       "Chemistry    24\n",
       "Geology      24\n",
       "Quran        22\n",
       "Math         21\n",
       "History      19\n",
       "Name: Topic, dtype: int64"
      ]
     },
     "execution_count": 64,
     "metadata": {},
     "output_type": "execute_result"
    }
   ],
   "source": [
    "df.Topic.value_counts()"
   ]
  },
  {
   "cell_type": "code",
   "execution_count": 65,
   "id": "3ba32b7d",
   "metadata": {},
   "outputs": [
    {
     "data": {
      "text/plain": [
       "IT           95\n",
       "French       65\n",
       "Arabic       59\n",
       "Science      51\n",
       "English      45\n",
       "Biology      30\n",
       "Spanish      25\n",
       "Chemistry    24\n",
       "Geology      24\n",
       "Quran        22\n",
       "Math         21\n",
       "History      19\n",
       "Name: Topic, dtype: int64"
      ]
     },
     "execution_count": 65,
     "metadata": {},
     "output_type": "execute_result"
    }
   ],
   "source": [
    "df.Topic.value_counts()"
   ]
  },
  {
   "cell_type": "markdown",
   "id": "9b201a4e",
   "metadata": {},
   "source": [
    "### Semester"
   ]
  },
  {
   "cell_type": "code",
   "execution_count": 66,
   "id": "939234a0",
   "metadata": {},
   "outputs": [
    {
     "data": {
      "text/plain": [
       "0      F\n",
       "1      F\n",
       "2      F\n",
       "3      F\n",
       "4      F\n",
       "      ..\n",
       "475    S\n",
       "476    F\n",
       "477    S\n",
       "478    F\n",
       "479    S\n",
       "Name: Semester, Length: 480, dtype: object"
      ]
     },
     "execution_count": 66,
     "metadata": {},
     "output_type": "execute_result"
    }
   ],
   "source": [
    "df.Semester"
   ]
  },
  {
   "cell_type": "code",
   "execution_count": 67,
   "id": "715156a6",
   "metadata": {},
   "outputs": [
    {
     "data": {
      "text/plain": [
       "F    245\n",
       "S    235\n",
       "Name: Semester, dtype: int64"
      ]
     },
     "execution_count": 67,
     "metadata": {},
     "output_type": "execute_result"
    }
   ],
   "source": [
    "df.Semester.value_counts()"
   ]
  },
  {
   "cell_type": "code",
   "execution_count": 68,
   "id": "b566e175",
   "metadata": {},
   "outputs": [
    {
     "data": {
      "text/plain": [
       "F    245\n",
       "S    235\n",
       "Name: Semester, dtype: int64"
      ]
     },
     "execution_count": 68,
     "metadata": {},
     "output_type": "execute_result"
    }
   ],
   "source": [
    "df.Semester.value_counts()"
   ]
  },
  {
   "cell_type": "code",
   "execution_count": 69,
   "id": "803ad7d2",
   "metadata": {},
   "outputs": [
    {
     "data": {
      "text/html": [
       "<div>\n",
       "<style scoped>\n",
       "    .dataframe tbody tr th:only-of-type {\n",
       "        vertical-align: middle;\n",
       "    }\n",
       "\n",
       "    .dataframe tbody tr th {\n",
       "        vertical-align: top;\n",
       "    }\n",
       "\n",
       "    .dataframe thead th {\n",
       "        text-align: right;\n",
       "    }\n",
       "</style>\n",
       "<table border=\"1\" class=\"dataframe\">\n",
       "  <thead>\n",
       "    <tr style=\"text-align: right;\">\n",
       "      <th>Class</th>\n",
       "      <th>0</th>\n",
       "      <th>1</th>\n",
       "      <th>2</th>\n",
       "    </tr>\n",
       "    <tr>\n",
       "      <th>Semester</th>\n",
       "      <th></th>\n",
       "      <th></th>\n",
       "      <th></th>\n",
       "    </tr>\n",
       "  </thead>\n",
       "  <tbody>\n",
       "    <tr>\n",
       "      <th>F</th>\n",
       "      <td>77</td>\n",
       "      <td>106</td>\n",
       "      <td>62</td>\n",
       "    </tr>\n",
       "    <tr>\n",
       "      <th>S</th>\n",
       "      <td>50</td>\n",
       "      <td>105</td>\n",
       "      <td>80</td>\n",
       "    </tr>\n",
       "  </tbody>\n",
       "</table>\n",
       "</div>"
      ],
      "text/plain": [
       "Class      0    1   2\n",
       "Semester             \n",
       "F         77  106  62\n",
       "S         50  105  80"
      ]
     },
     "execution_count": 69,
     "metadata": {},
     "output_type": "execute_result"
    }
   ],
   "source": [
    "cross = pd.crosstab(df.Semester, df.Class)\n",
    "cross"
   ]
  },
  {
   "cell_type": "code",
   "execution_count": 70,
   "id": "9080c6be",
   "metadata": {},
   "outputs": [
    {
     "data": {
      "text/plain": [
       "(7.821648437009264,\n",
       " 0.02002399011511543,\n",
       " 2,\n",
       " array([[ 64.82291667, 107.69791667,  72.47916667],\n",
       "        [ 62.17708333, 103.30208333,  69.52083333]]))"
      ]
     },
     "execution_count": 70,
     "metadata": {},
     "output_type": "execute_result"
    }
   ],
   "source": [
    "chi2_contingency(cross, correction=False)"
   ]
  },
  {
   "cell_type": "markdown",
   "id": "1e8c3093",
   "metadata": {},
   "source": [
    "### Relation"
   ]
  },
  {
   "cell_type": "code",
   "execution_count": 71,
   "id": "dd2f30d4",
   "metadata": {},
   "outputs": [
    {
     "data": {
      "text/plain": [
       "0      Father\n",
       "1      Father\n",
       "2      Father\n",
       "3      Father\n",
       "4      Father\n",
       "        ...  \n",
       "475    Father\n",
       "476    Father\n",
       "477    Father\n",
       "478    Father\n",
       "479    Father\n",
       "Name: Relation, Length: 480, dtype: object"
      ]
     },
     "execution_count": 71,
     "metadata": {},
     "output_type": "execute_result"
    }
   ],
   "source": [
    "df.Relation"
   ]
  },
  {
   "cell_type": "code",
   "execution_count": 72,
   "id": "e0dc2178",
   "metadata": {},
   "outputs": [
    {
     "data": {
      "text/plain": [
       "Father    283\n",
       "Mum       197\n",
       "Name: Relation, dtype: int64"
      ]
     },
     "execution_count": 72,
     "metadata": {},
     "output_type": "execute_result"
    }
   ],
   "source": [
    "df.Relation.value_counts()"
   ]
  },
  {
   "cell_type": "code",
   "execution_count": 73,
   "id": "60dc3f3a",
   "metadata": {},
   "outputs": [
    {
     "data": {
      "text/plain": [
       "Father    283\n",
       "Mum       197\n",
       "Name: Relation, dtype: int64"
      ]
     },
     "execution_count": 73,
     "metadata": {},
     "output_type": "execute_result"
    }
   ],
   "source": [
    "df.Relation.value_counts()"
   ]
  },
  {
   "cell_type": "code",
   "execution_count": 74,
   "id": "425d29ab",
   "metadata": {
    "scrolled": true
   },
   "outputs": [
    {
     "data": {
      "text/html": [
       "<div>\n",
       "<style scoped>\n",
       "    .dataframe tbody tr th:only-of-type {\n",
       "        vertical-align: middle;\n",
       "    }\n",
       "\n",
       "    .dataframe tbody tr th {\n",
       "        vertical-align: top;\n",
       "    }\n",
       "\n",
       "    .dataframe thead th {\n",
       "        text-align: right;\n",
       "    }\n",
       "</style>\n",
       "<table border=\"1\" class=\"dataframe\">\n",
       "  <thead>\n",
       "    <tr style=\"text-align: right;\">\n",
       "      <th>Class</th>\n",
       "      <th>0</th>\n",
       "      <th>1</th>\n",
       "      <th>2</th>\n",
       "    </tr>\n",
       "    <tr>\n",
       "      <th>Relation</th>\n",
       "      <th></th>\n",
       "      <th></th>\n",
       "      <th></th>\n",
       "    </tr>\n",
       "  </thead>\n",
       "  <tbody>\n",
       "    <tr>\n",
       "      <th>Father</th>\n",
       "      <td>104</td>\n",
       "      <td>137</td>\n",
       "      <td>42</td>\n",
       "    </tr>\n",
       "    <tr>\n",
       "      <th>Mum</th>\n",
       "      <td>23</td>\n",
       "      <td>74</td>\n",
       "      <td>100</td>\n",
       "    </tr>\n",
       "  </tbody>\n",
       "</table>\n",
       "</div>"
      ],
      "text/plain": [
       "Class       0    1    2\n",
       "Relation               \n",
       "Father    104  137   42\n",
       "Mum        23   74  100"
      ]
     },
     "execution_count": 74,
     "metadata": {},
     "output_type": "execute_result"
    }
   ],
   "source": [
    "cross = pd.crosstab(df.Relation, df.Class)\n",
    "cross"
   ]
  },
  {
   "cell_type": "code",
   "execution_count": 75,
   "id": "9216e2a1",
   "metadata": {},
   "outputs": [
    {
     "data": {
      "text/plain": [
       "(81.36554176950568,\n",
       " 2.146332966851339e-18,\n",
       " 2,\n",
       " array([[ 74.87708333, 124.40208333,  83.72083333],\n",
       "        [ 52.12291667,  86.59791667,  58.27916667]]))"
      ]
     },
     "execution_count": 75,
     "metadata": {},
     "output_type": "execute_result"
    }
   ],
   "source": [
    "chi2_contingency(cross, correction=False)"
   ]
  },
  {
   "cell_type": "markdown",
   "id": "c780a318",
   "metadata": {},
   "source": [
    "### raisedhands"
   ]
  },
  {
   "cell_type": "code",
   "execution_count": 76,
   "id": "a2848d1e",
   "metadata": {
    "scrolled": true
   },
   "outputs": [
    {
     "data": {
      "text/plain": [
       "0      15\n",
       "1      20\n",
       "2      10\n",
       "3      30\n",
       "4      40\n",
       "       ..\n",
       "475     5\n",
       "476    50\n",
       "477    55\n",
       "478    30\n",
       "479    35\n",
       "Name: raisedhands, Length: 480, dtype: int64"
      ]
     },
     "execution_count": 76,
     "metadata": {},
     "output_type": "execute_result"
    }
   ],
   "source": [
    "df.raisedhands"
   ]
  },
  {
   "cell_type": "code",
   "execution_count": 77,
   "id": "2542b759",
   "metadata": {},
   "outputs": [
    {
     "data": {
      "text/plain": [
       "10    31\n",
       "70    31\n",
       "80    28\n",
       "72    17\n",
       "50    17\n",
       "      ..\n",
       "61     1\n",
       "83     1\n",
       "52     1\n",
       "67     1\n",
       "97     1\n",
       "Name: raisedhands, Length: 82, dtype: int64"
      ]
     },
     "execution_count": 77,
     "metadata": {},
     "output_type": "execute_result"
    }
   ],
   "source": [
    "df.raisedhands.value_counts()"
   ]
  },
  {
   "cell_type": "code",
   "execution_count": 78,
   "id": "6b7fd8e1",
   "metadata": {},
   "outputs": [
    {
     "name": "stdout",
     "output_type": "stream",
     "text": [
      "Pearsons correlation: 0.646\n"
     ]
    }
   ],
   "source": [
    "corr,_ = pearsonr(df.raisedhands,df.Class)\n",
    "print('Pearsons correlation: %.3f' %corr)"
   ]
  },
  {
   "cell_type": "markdown",
   "id": "4782ec49",
   "metadata": {},
   "source": [
    "### Parentsansweringsurvey"
   ]
  },
  {
   "cell_type": "code",
   "execution_count": 79,
   "id": "717da7ca",
   "metadata": {},
   "outputs": [
    {
     "data": {
      "text/plain": [
       "0      Yes\n",
       "1      Yes\n",
       "2       No\n",
       "3       No\n",
       "4       No\n",
       "      ... \n",
       "475     No\n",
       "476     No\n",
       "477     No\n",
       "478     No\n",
       "479     No\n",
       "Name: ParentAnsweringSurvey, Length: 480, dtype: object"
      ]
     },
     "execution_count": 79,
     "metadata": {},
     "output_type": "execute_result"
    }
   ],
   "source": [
    "df.ParentAnsweringSurvey"
   ]
  },
  {
   "cell_type": "code",
   "execution_count": 80,
   "id": "0155baae",
   "metadata": {},
   "outputs": [
    {
     "data": {
      "text/plain": [
       "Yes    270\n",
       "No     210\n",
       "Name: ParentAnsweringSurvey, dtype: int64"
      ]
     },
     "execution_count": 80,
     "metadata": {},
     "output_type": "execute_result"
    }
   ],
   "source": [
    "df.ParentAnsweringSurvey.value_counts()"
   ]
  },
  {
   "cell_type": "code",
   "execution_count": 81,
   "id": "9ca5ce22",
   "metadata": {},
   "outputs": [
    {
     "data": {
      "text/plain": [
       "Yes    270\n",
       "No     210\n",
       "Name: ParentAnsweringSurvey, dtype: int64"
      ]
     },
     "execution_count": 81,
     "metadata": {},
     "output_type": "execute_result"
    }
   ],
   "source": [
    "df.ParentAnsweringSurvey.value_counts()"
   ]
  },
  {
   "cell_type": "code",
   "execution_count": 82,
   "id": "c2c2178e",
   "metadata": {
    "scrolled": true
   },
   "outputs": [
    {
     "data": {
      "text/html": [
       "<div>\n",
       "<style scoped>\n",
       "    .dataframe tbody tr th:only-of-type {\n",
       "        vertical-align: middle;\n",
       "    }\n",
       "\n",
       "    .dataframe tbody tr th {\n",
       "        vertical-align: top;\n",
       "    }\n",
       "\n",
       "    .dataframe thead th {\n",
       "        text-align: right;\n",
       "    }\n",
       "</style>\n",
       "<table border=\"1\" class=\"dataframe\">\n",
       "  <thead>\n",
       "    <tr style=\"text-align: right;\">\n",
       "      <th>Class</th>\n",
       "      <th>0</th>\n",
       "      <th>1</th>\n",
       "      <th>2</th>\n",
       "    </tr>\n",
       "    <tr>\n",
       "      <th>ParentAnsweringSurvey</th>\n",
       "      <th></th>\n",
       "      <th></th>\n",
       "      <th></th>\n",
       "    </tr>\n",
       "  </thead>\n",
       "  <tbody>\n",
       "    <tr>\n",
       "      <th>No</th>\n",
       "      <td>99</td>\n",
       "      <td>83</td>\n",
       "      <td>28</td>\n",
       "    </tr>\n",
       "    <tr>\n",
       "      <th>Yes</th>\n",
       "      <td>28</td>\n",
       "      <td>128</td>\n",
       "      <td>114</td>\n",
       "    </tr>\n",
       "  </tbody>\n",
       "</table>\n",
       "</div>"
      ],
      "text/plain": [
       "Class                   0    1    2\n",
       "ParentAnsweringSurvey              \n",
       "No                     99   83   28\n",
       "Yes                    28  128  114"
      ]
     },
     "execution_count": 82,
     "metadata": {},
     "output_type": "execute_result"
    }
   ],
   "source": [
    "cross = pd.crosstab(df.ParentAnsweringSurvey, df.Class)\n",
    "cross"
   ]
  },
  {
   "cell_type": "code",
   "execution_count": 83,
   "id": "47884599",
   "metadata": {},
   "outputs": [
    {
     "data": {
      "text/plain": [
       "(95.36464947421923,\n",
       " 1.9580757205685668e-21,\n",
       " 2,\n",
       " array([[ 55.5625,  92.3125,  62.125 ],\n",
       "        [ 71.4375, 118.6875,  79.875 ]]))"
      ]
     },
     "execution_count": 83,
     "metadata": {},
     "output_type": "execute_result"
    }
   ],
   "source": [
    "chi2_contingency(cross, correction=False)"
   ]
  },
  {
   "cell_type": "markdown",
   "id": "6a11c76c",
   "metadata": {},
   "source": [
    "### ParentschoolSatisfaction"
   ]
  },
  {
   "cell_type": "code",
   "execution_count": 84,
   "id": "7795ba7b",
   "metadata": {},
   "outputs": [
    {
     "data": {
      "text/plain": [
       "0      Good\n",
       "1      Good\n",
       "2       Bad\n",
       "3       Bad\n",
       "4       Bad\n",
       "       ... \n",
       "475     Bad\n",
       "476     Bad\n",
       "477     Bad\n",
       "478     Bad\n",
       "479     Bad\n",
       "Name: ParentschoolSatisfaction, Length: 480, dtype: object"
      ]
     },
     "execution_count": 84,
     "metadata": {},
     "output_type": "execute_result"
    }
   ],
   "source": [
    "df.ParentschoolSatisfaction"
   ]
  },
  {
   "cell_type": "code",
   "execution_count": 85,
   "id": "d07ea97b",
   "metadata": {},
   "outputs": [
    {
     "data": {
      "text/plain": [
       "Good    292\n",
       "Bad     188\n",
       "Name: ParentschoolSatisfaction, dtype: int64"
      ]
     },
     "execution_count": 85,
     "metadata": {},
     "output_type": "execute_result"
    }
   ],
   "source": [
    "df.ParentschoolSatisfaction.value_counts()"
   ]
  },
  {
   "cell_type": "code",
   "execution_count": 86,
   "id": "f2e4ffe6",
   "metadata": {},
   "outputs": [
    {
     "data": {
      "text/plain": [
       "Good    292\n",
       "Bad     188\n",
       "Name: ParentschoolSatisfaction, dtype: int64"
      ]
     },
     "execution_count": 86,
     "metadata": {},
     "output_type": "execute_result"
    }
   ],
   "source": [
    "df.ParentschoolSatisfaction.value_counts()"
   ]
  },
  {
   "cell_type": "code",
   "execution_count": 87,
   "id": "d84e78a2",
   "metadata": {
    "scrolled": true
   },
   "outputs": [
    {
     "data": {
      "text/html": [
       "<div>\n",
       "<style scoped>\n",
       "    .dataframe tbody tr th:only-of-type {\n",
       "        vertical-align: middle;\n",
       "    }\n",
       "\n",
       "    .dataframe tbody tr th {\n",
       "        vertical-align: top;\n",
       "    }\n",
       "\n",
       "    .dataframe thead th {\n",
       "        text-align: right;\n",
       "    }\n",
       "</style>\n",
       "<table border=\"1\" class=\"dataframe\">\n",
       "  <thead>\n",
       "    <tr style=\"text-align: right;\">\n",
       "      <th>Class</th>\n",
       "      <th>0</th>\n",
       "      <th>1</th>\n",
       "      <th>2</th>\n",
       "    </tr>\n",
       "    <tr>\n",
       "      <th>ParentschoolSatisfaction</th>\n",
       "      <th></th>\n",
       "      <th></th>\n",
       "      <th></th>\n",
       "    </tr>\n",
       "  </thead>\n",
       "  <tbody>\n",
       "    <tr>\n",
       "      <th>Bad</th>\n",
       "      <td>84</td>\n",
       "      <td>80</td>\n",
       "      <td>24</td>\n",
       "    </tr>\n",
       "    <tr>\n",
       "      <th>Good</th>\n",
       "      <td>43</td>\n",
       "      <td>131</td>\n",
       "      <td>118</td>\n",
       "    </tr>\n",
       "  </tbody>\n",
       "</table>\n",
       "</div>"
      ],
      "text/plain": [
       "Class                      0    1    2\n",
       "ParentschoolSatisfaction              \n",
       "Bad                       84   80   24\n",
       "Good                      43  131  118"
      ]
     },
     "execution_count": 87,
     "metadata": {},
     "output_type": "execute_result"
    }
   ],
   "source": [
    "cross = pd.crosstab(df.ParentschoolSatisfaction, df.Class)\n",
    "cross"
   ]
  },
  {
   "cell_type": "code",
   "execution_count": 88,
   "id": "50300ef8",
   "metadata": {},
   "outputs": [
    {
     "data": {
      "text/plain": [
       "(68.4695169021438,\n",
       " 1.3552933750373137e-15,\n",
       " 2,\n",
       " array([[ 49.74166667,  82.64166667,  55.61666667],\n",
       "        [ 77.25833333, 128.35833333,  86.38333333]]))"
      ]
     },
     "execution_count": 88,
     "metadata": {},
     "output_type": "execute_result"
    }
   ],
   "source": [
    "chi2_contingency(cross, correction=False)"
   ]
  },
  {
   "cell_type": "markdown",
   "id": "e75b9b54",
   "metadata": {},
   "source": [
    "### StudentAbsenceDays"
   ]
  },
  {
   "cell_type": "code",
   "execution_count": 89,
   "id": "bbad8829",
   "metadata": {},
   "outputs": [
    {
     "data": {
      "text/plain": [
       "0      Under-7\n",
       "1      Under-7\n",
       "2      Above-7\n",
       "3      Above-7\n",
       "4      Above-7\n",
       "        ...   \n",
       "475    Above-7\n",
       "476    Under-7\n",
       "477    Under-7\n",
       "478    Above-7\n",
       "479    Above-7\n",
       "Name: StudentAbsenceDays, Length: 480, dtype: object"
      ]
     },
     "execution_count": 89,
     "metadata": {},
     "output_type": "execute_result"
    }
   ],
   "source": [
    "df.StudentAbsenceDays"
   ]
  },
  {
   "cell_type": "code",
   "execution_count": 90,
   "id": "1a0e3651",
   "metadata": {},
   "outputs": [
    {
     "data": {
      "text/plain": [
       "Under-7    289\n",
       "Above-7    191\n",
       "Name: StudentAbsenceDays, dtype: int64"
      ]
     },
     "execution_count": 90,
     "metadata": {},
     "output_type": "execute_result"
    }
   ],
   "source": [
    "df.StudentAbsenceDays.value_counts()"
   ]
  },
  {
   "cell_type": "code",
   "execution_count": 91,
   "id": "2b1c5e1e",
   "metadata": {},
   "outputs": [
    {
     "data": {
      "text/plain": [
       "Under-7    289\n",
       "Above-7    191\n",
       "Name: StudentAbsenceDays, dtype: int64"
      ]
     },
     "execution_count": 91,
     "metadata": {},
     "output_type": "execute_result"
    }
   ],
   "source": [
    "df.StudentAbsenceDays.value_counts()"
   ]
  },
  {
   "cell_type": "code",
   "execution_count": 92,
   "id": "17eb9eab",
   "metadata": {
    "scrolled": true
   },
   "outputs": [
    {
     "data": {
      "text/html": [
       "<div>\n",
       "<style scoped>\n",
       "    .dataframe tbody tr th:only-of-type {\n",
       "        vertical-align: middle;\n",
       "    }\n",
       "\n",
       "    .dataframe tbody tr th {\n",
       "        vertical-align: top;\n",
       "    }\n",
       "\n",
       "    .dataframe thead th {\n",
       "        text-align: right;\n",
       "    }\n",
       "</style>\n",
       "<table border=\"1\" class=\"dataframe\">\n",
       "  <thead>\n",
       "    <tr style=\"text-align: right;\">\n",
       "      <th>Class</th>\n",
       "      <th>0</th>\n",
       "      <th>1</th>\n",
       "      <th>2</th>\n",
       "    </tr>\n",
       "    <tr>\n",
       "      <th>StudentAbsenceDays</th>\n",
       "      <th></th>\n",
       "      <th></th>\n",
       "      <th></th>\n",
       "    </tr>\n",
       "  </thead>\n",
       "  <tbody>\n",
       "    <tr>\n",
       "      <th>Above-7</th>\n",
       "      <td>116</td>\n",
       "      <td>71</td>\n",
       "      <td>4</td>\n",
       "    </tr>\n",
       "    <tr>\n",
       "      <th>Under-7</th>\n",
       "      <td>11</td>\n",
       "      <td>140</td>\n",
       "      <td>138</td>\n",
       "    </tr>\n",
       "  </tbody>\n",
       "</table>\n",
       "</div>"
      ],
      "text/plain": [
       "Class                 0    1    2\n",
       "StudentAbsenceDays               \n",
       "Above-7             116   71    4\n",
       "Under-7              11  140  138"
      ]
     },
     "execution_count": 92,
     "metadata": {},
     "output_type": "execute_result"
    }
   ],
   "source": [
    "cross = pd.crosstab(df.StudentAbsenceDays, df.Class)\n",
    "cross"
   ]
  },
  {
   "cell_type": "code",
   "execution_count": 93,
   "id": "bbb9622f",
   "metadata": {},
   "outputs": [
    {
     "data": {
      "text/plain": [
       "(225.20481950881492,\n",
       " 1.2513960927832126e-49,\n",
       " 2,\n",
       " array([[ 50.53541667,  83.96041667,  56.50416667],\n",
       "        [ 76.46458333, 127.03958333,  85.49583333]]))"
      ]
     },
     "execution_count": 93,
     "metadata": {},
     "output_type": "execute_result"
    }
   ],
   "source": [
    "chi2_contingency(cross, correction=False)"
   ]
  },
  {
   "cell_type": "markdown",
   "id": "09e196e2",
   "metadata": {},
   "source": [
    "# Model Building"
   ]
  },
  {
   "cell_type": "code",
   "execution_count": 94,
   "id": "9c51e092",
   "metadata": {
    "scrolled": true
   },
   "outputs": [
    {
     "data": {
      "text/html": [
       "<div>\n",
       "<style scoped>\n",
       "    .dataframe tbody tr th:only-of-type {\n",
       "        vertical-align: middle;\n",
       "    }\n",
       "\n",
       "    .dataframe tbody tr th {\n",
       "        vertical-align: top;\n",
       "    }\n",
       "\n",
       "    .dataframe thead th {\n",
       "        text-align: right;\n",
       "    }\n",
       "</style>\n",
       "<table border=\"1\" class=\"dataframe\">\n",
       "  <thead>\n",
       "    <tr style=\"text-align: right;\">\n",
       "      <th></th>\n",
       "      <th>gender</th>\n",
       "      <th>NationalITy</th>\n",
       "      <th>Topic</th>\n",
       "      <th>Semester</th>\n",
       "      <th>Relation</th>\n",
       "      <th>raisedhands</th>\n",
       "      <th>VisITedResources</th>\n",
       "      <th>AnnouncementsView</th>\n",
       "      <th>Discussion</th>\n",
       "      <th>ParentAnsweringSurvey</th>\n",
       "      <th>ParentschoolSatisfaction</th>\n",
       "      <th>StudentAbsenceDays</th>\n",
       "      <th>Class</th>\n",
       "    </tr>\n",
       "  </thead>\n",
       "  <tbody>\n",
       "    <tr>\n",
       "      <th>0</th>\n",
       "      <td>M</td>\n",
       "      <td>KW</td>\n",
       "      <td>IT</td>\n",
       "      <td>F</td>\n",
       "      <td>Father</td>\n",
       "      <td>15</td>\n",
       "      <td>16</td>\n",
       "      <td>2</td>\n",
       "      <td>20</td>\n",
       "      <td>Yes</td>\n",
       "      <td>Good</td>\n",
       "      <td>Under-7</td>\n",
       "      <td>1</td>\n",
       "    </tr>\n",
       "    <tr>\n",
       "      <th>1</th>\n",
       "      <td>M</td>\n",
       "      <td>KW</td>\n",
       "      <td>IT</td>\n",
       "      <td>F</td>\n",
       "      <td>Father</td>\n",
       "      <td>20</td>\n",
       "      <td>20</td>\n",
       "      <td>3</td>\n",
       "      <td>25</td>\n",
       "      <td>Yes</td>\n",
       "      <td>Good</td>\n",
       "      <td>Under-7</td>\n",
       "      <td>1</td>\n",
       "    </tr>\n",
       "    <tr>\n",
       "      <th>2</th>\n",
       "      <td>M</td>\n",
       "      <td>KW</td>\n",
       "      <td>IT</td>\n",
       "      <td>F</td>\n",
       "      <td>Father</td>\n",
       "      <td>10</td>\n",
       "      <td>7</td>\n",
       "      <td>0</td>\n",
       "      <td>30</td>\n",
       "      <td>No</td>\n",
       "      <td>Bad</td>\n",
       "      <td>Above-7</td>\n",
       "      <td>0</td>\n",
       "    </tr>\n",
       "    <tr>\n",
       "      <th>3</th>\n",
       "      <td>M</td>\n",
       "      <td>KW</td>\n",
       "      <td>IT</td>\n",
       "      <td>F</td>\n",
       "      <td>Father</td>\n",
       "      <td>30</td>\n",
       "      <td>25</td>\n",
       "      <td>5</td>\n",
       "      <td>35</td>\n",
       "      <td>No</td>\n",
       "      <td>Bad</td>\n",
       "      <td>Above-7</td>\n",
       "      <td>0</td>\n",
       "    </tr>\n",
       "    <tr>\n",
       "      <th>4</th>\n",
       "      <td>M</td>\n",
       "      <td>KW</td>\n",
       "      <td>IT</td>\n",
       "      <td>F</td>\n",
       "      <td>Father</td>\n",
       "      <td>40</td>\n",
       "      <td>50</td>\n",
       "      <td>12</td>\n",
       "      <td>50</td>\n",
       "      <td>No</td>\n",
       "      <td>Bad</td>\n",
       "      <td>Above-7</td>\n",
       "      <td>1</td>\n",
       "    </tr>\n",
       "  </tbody>\n",
       "</table>\n",
       "</div>"
      ],
      "text/plain": [
       "  gender NationalITy Topic Semester Relation  raisedhands  VisITedResources  \\\n",
       "0      M          KW    IT        F   Father           15                16   \n",
       "1      M          KW    IT        F   Father           20                20   \n",
       "2      M          KW    IT        F   Father           10                 7   \n",
       "3      M          KW    IT        F   Father           30                25   \n",
       "4      M          KW    IT        F   Father           40                50   \n",
       "\n",
       "   AnnouncementsView  Discussion ParentAnsweringSurvey  \\\n",
       "0                  2          20                   Yes   \n",
       "1                  3          25                   Yes   \n",
       "2                  0          30                    No   \n",
       "3                  5          35                    No   \n",
       "4                 12          50                    No   \n",
       "\n",
       "  ParentschoolSatisfaction StudentAbsenceDays  Class  \n",
       "0                     Good            Under-7      1  \n",
       "1                     Good            Under-7      1  \n",
       "2                      Bad            Above-7      0  \n",
       "3                      Bad            Above-7      0  \n",
       "4                      Bad            Above-7      1  "
      ]
     },
     "execution_count": 94,
     "metadata": {},
     "output_type": "execute_result"
    }
   ],
   "source": [
    "df.head()"
   ]
  },
  {
   "cell_type": "code",
   "execution_count": 95,
   "id": "9cfb5b2b",
   "metadata": {},
   "outputs": [],
   "source": [
    "df.drop(columns=['NationalITy','Relation'], axis=1,inplace=True)"
   ]
  },
  {
   "cell_type": "code",
   "execution_count": 96,
   "id": "1708e1f6",
   "metadata": {},
   "outputs": [],
   "source": [
    "data_with_dummies = pd.get_dummies(df, drop_first=True)"
   ]
  },
  {
   "cell_type": "code",
   "execution_count": 97,
   "id": "2f8a8f6d",
   "metadata": {
    "scrolled": false
   },
   "outputs": [
    {
     "data": {
      "text/html": [
       "<div>\n",
       "<style scoped>\n",
       "    .dataframe tbody tr th:only-of-type {\n",
       "        vertical-align: middle;\n",
       "    }\n",
       "\n",
       "    .dataframe tbody tr th {\n",
       "        vertical-align: top;\n",
       "    }\n",
       "\n",
       "    .dataframe thead th {\n",
       "        text-align: right;\n",
       "    }\n",
       "</style>\n",
       "<table border=\"1\" class=\"dataframe\">\n",
       "  <thead>\n",
       "    <tr style=\"text-align: right;\">\n",
       "      <th></th>\n",
       "      <th>raisedhands</th>\n",
       "      <th>VisITedResources</th>\n",
       "      <th>AnnouncementsView</th>\n",
       "      <th>Discussion</th>\n",
       "      <th>Class</th>\n",
       "      <th>gender_M</th>\n",
       "      <th>Topic_Biology</th>\n",
       "      <th>Topic_Chemistry</th>\n",
       "      <th>Topic_English</th>\n",
       "      <th>Topic_French</th>\n",
       "      <th>Topic_Geology</th>\n",
       "      <th>Topic_History</th>\n",
       "      <th>Topic_IT</th>\n",
       "      <th>Topic_Math</th>\n",
       "      <th>Topic_Quran</th>\n",
       "      <th>Topic_Science</th>\n",
       "      <th>Topic_Spanish</th>\n",
       "      <th>Semester_S</th>\n",
       "      <th>ParentAnsweringSurvey_Yes</th>\n",
       "      <th>ParentschoolSatisfaction_Good</th>\n",
       "      <th>StudentAbsenceDays_Under-7</th>\n",
       "    </tr>\n",
       "  </thead>\n",
       "  <tbody>\n",
       "    <tr>\n",
       "      <th>0</th>\n",
       "      <td>15</td>\n",
       "      <td>16</td>\n",
       "      <td>2</td>\n",
       "      <td>20</td>\n",
       "      <td>1</td>\n",
       "      <td>1</td>\n",
       "      <td>0</td>\n",
       "      <td>0</td>\n",
       "      <td>0</td>\n",
       "      <td>0</td>\n",
       "      <td>0</td>\n",
       "      <td>0</td>\n",
       "      <td>1</td>\n",
       "      <td>0</td>\n",
       "      <td>0</td>\n",
       "      <td>0</td>\n",
       "      <td>0</td>\n",
       "      <td>0</td>\n",
       "      <td>1</td>\n",
       "      <td>1</td>\n",
       "      <td>1</td>\n",
       "    </tr>\n",
       "    <tr>\n",
       "      <th>1</th>\n",
       "      <td>20</td>\n",
       "      <td>20</td>\n",
       "      <td>3</td>\n",
       "      <td>25</td>\n",
       "      <td>1</td>\n",
       "      <td>1</td>\n",
       "      <td>0</td>\n",
       "      <td>0</td>\n",
       "      <td>0</td>\n",
       "      <td>0</td>\n",
       "      <td>0</td>\n",
       "      <td>0</td>\n",
       "      <td>1</td>\n",
       "      <td>0</td>\n",
       "      <td>0</td>\n",
       "      <td>0</td>\n",
       "      <td>0</td>\n",
       "      <td>0</td>\n",
       "      <td>1</td>\n",
       "      <td>1</td>\n",
       "      <td>1</td>\n",
       "    </tr>\n",
       "    <tr>\n",
       "      <th>2</th>\n",
       "      <td>10</td>\n",
       "      <td>7</td>\n",
       "      <td>0</td>\n",
       "      <td>30</td>\n",
       "      <td>0</td>\n",
       "      <td>1</td>\n",
       "      <td>0</td>\n",
       "      <td>0</td>\n",
       "      <td>0</td>\n",
       "      <td>0</td>\n",
       "      <td>0</td>\n",
       "      <td>0</td>\n",
       "      <td>1</td>\n",
       "      <td>0</td>\n",
       "      <td>0</td>\n",
       "      <td>0</td>\n",
       "      <td>0</td>\n",
       "      <td>0</td>\n",
       "      <td>0</td>\n",
       "      <td>0</td>\n",
       "      <td>0</td>\n",
       "    </tr>\n",
       "    <tr>\n",
       "      <th>3</th>\n",
       "      <td>30</td>\n",
       "      <td>25</td>\n",
       "      <td>5</td>\n",
       "      <td>35</td>\n",
       "      <td>0</td>\n",
       "      <td>1</td>\n",
       "      <td>0</td>\n",
       "      <td>0</td>\n",
       "      <td>0</td>\n",
       "      <td>0</td>\n",
       "      <td>0</td>\n",
       "      <td>0</td>\n",
       "      <td>1</td>\n",
       "      <td>0</td>\n",
       "      <td>0</td>\n",
       "      <td>0</td>\n",
       "      <td>0</td>\n",
       "      <td>0</td>\n",
       "      <td>0</td>\n",
       "      <td>0</td>\n",
       "      <td>0</td>\n",
       "    </tr>\n",
       "    <tr>\n",
       "      <th>4</th>\n",
       "      <td>40</td>\n",
       "      <td>50</td>\n",
       "      <td>12</td>\n",
       "      <td>50</td>\n",
       "      <td>1</td>\n",
       "      <td>1</td>\n",
       "      <td>0</td>\n",
       "      <td>0</td>\n",
       "      <td>0</td>\n",
       "      <td>0</td>\n",
       "      <td>0</td>\n",
       "      <td>0</td>\n",
       "      <td>1</td>\n",
       "      <td>0</td>\n",
       "      <td>0</td>\n",
       "      <td>0</td>\n",
       "      <td>0</td>\n",
       "      <td>0</td>\n",
       "      <td>0</td>\n",
       "      <td>0</td>\n",
       "      <td>0</td>\n",
       "    </tr>\n",
       "  </tbody>\n",
       "</table>\n",
       "</div>"
      ],
      "text/plain": [
       "   raisedhands  VisITedResources  AnnouncementsView  Discussion  Class  \\\n",
       "0           15                16                  2          20      1   \n",
       "1           20                20                  3          25      1   \n",
       "2           10                 7                  0          30      0   \n",
       "3           30                25                  5          35      0   \n",
       "4           40                50                 12          50      1   \n",
       "\n",
       "   gender_M  Topic_Biology  Topic_Chemistry  Topic_English  Topic_French  \\\n",
       "0         1              0                0              0             0   \n",
       "1         1              0                0              0             0   \n",
       "2         1              0                0              0             0   \n",
       "3         1              0                0              0             0   \n",
       "4         1              0                0              0             0   \n",
       "\n",
       "   Topic_Geology  Topic_History  Topic_IT  Topic_Math  Topic_Quran  \\\n",
       "0              0              0         1           0            0   \n",
       "1              0              0         1           0            0   \n",
       "2              0              0         1           0            0   \n",
       "3              0              0         1           0            0   \n",
       "4              0              0         1           0            0   \n",
       "\n",
       "   Topic_Science  Topic_Spanish  Semester_S  ParentAnsweringSurvey_Yes  \\\n",
       "0              0              0           0                          1   \n",
       "1              0              0           0                          1   \n",
       "2              0              0           0                          0   \n",
       "3              0              0           0                          0   \n",
       "4              0              0           0                          0   \n",
       "\n",
       "   ParentschoolSatisfaction_Good  StudentAbsenceDays_Under-7  \n",
       "0                              1                           1  \n",
       "1                              1                           1  \n",
       "2                              0                           0  \n",
       "3                              0                           0  \n",
       "4                              0                           0  "
      ]
     },
     "execution_count": 97,
     "metadata": {},
     "output_type": "execute_result"
    }
   ],
   "source": [
    "data_with_dummies.head()"
   ]
  },
  {
   "cell_type": "code",
   "execution_count": 98,
   "id": "e03ebb44",
   "metadata": {},
   "outputs": [
    {
     "name": "stdout",
     "output_type": "stream",
     "text": [
      "<class 'pandas.core.frame.DataFrame'>\n",
      "RangeIndex: 480 entries, 0 to 479\n",
      "Data columns (total 21 columns):\n",
      " #   Column                         Non-Null Count  Dtype\n",
      "---  ------                         --------------  -----\n",
      " 0   raisedhands                    480 non-null    int64\n",
      " 1   VisITedResources               480 non-null    int64\n",
      " 2   AnnouncementsView              480 non-null    int64\n",
      " 3   Discussion                     480 non-null    int64\n",
      " 4   Class                          480 non-null    int64\n",
      " 5   gender_M                       480 non-null    uint8\n",
      " 6   Topic_Biology                  480 non-null    uint8\n",
      " 7   Topic_Chemistry                480 non-null    uint8\n",
      " 8   Topic_English                  480 non-null    uint8\n",
      " 9   Topic_French                   480 non-null    uint8\n",
      " 10  Topic_Geology                  480 non-null    uint8\n",
      " 11  Topic_History                  480 non-null    uint8\n",
      " 12  Topic_IT                       480 non-null    uint8\n",
      " 13  Topic_Math                     480 non-null    uint8\n",
      " 14  Topic_Quran                    480 non-null    uint8\n",
      " 15  Topic_Science                  480 non-null    uint8\n",
      " 16  Topic_Spanish                  480 non-null    uint8\n",
      " 17  Semester_S                     480 non-null    uint8\n",
      " 18  ParentAnsweringSurvey_Yes      480 non-null    uint8\n",
      " 19  ParentschoolSatisfaction_Good  480 non-null    uint8\n",
      " 20  StudentAbsenceDays_Under-7     480 non-null    uint8\n",
      "dtypes: int64(5), uint8(16)\n",
      "memory usage: 26.4 KB\n"
     ]
    }
   ],
   "source": [
    "data_with_dummies.info()"
   ]
  },
  {
   "cell_type": "code",
   "execution_count": 100,
   "id": "3444d3ae",
   "metadata": {},
   "outputs": [],
   "source": [
    "Features = data_with_dummies.drop(['Class'],axis = 1)\n",
    "Target = data_with_dummies['Class']"
   ]
  },
  {
   "cell_type": "code",
   "execution_count": 101,
   "id": "5c5ed8ec",
   "metadata": {},
   "outputs": [
    {
     "data": {
      "text/plain": [
       "StandardScaler()"
      ]
     },
     "execution_count": 101,
     "metadata": {},
     "output_type": "execute_result"
    }
   ],
   "source": [
    "from sklearn.preprocessing import StandardScaler\n",
    "\n",
    "scaler = StandardScaler()\n",
    "scaler.fit(Features)\n"
   ]
  },
  {
   "cell_type": "code",
   "execution_count": 102,
   "id": "cfd7d9c2",
   "metadata": {},
   "outputs": [],
   "source": [
    "X = scaler.fit_transform(Features)"
   ]
  },
  {
   "cell_type": "code",
   "execution_count": 103,
   "id": "4c105c4d",
   "metadata": {},
   "outputs": [],
   "source": [
    "X_train, X_test, y_train, y_test = train_test_split(X, Target, test_size=0.3, random_state=45)"
   ]
  },
  {
   "cell_type": "code",
   "execution_count": 104,
   "id": "6d97fbed",
   "metadata": {},
   "outputs": [
    {
     "data": {
      "text/plain": [
       "LogisticRegression()"
      ]
     },
     "execution_count": 104,
     "metadata": {},
     "output_type": "execute_result"
    }
   ],
   "source": [
    "Logit_Model = LogisticRegression()\n",
    "Logit_Model.fit(X_train,y_train)"
   ]
  },
  {
   "cell_type": "code",
   "execution_count": 105,
   "id": "6116e997",
   "metadata": {},
   "outputs": [],
   "source": [
    "from sklearn.metrics import classification_report, accuracy_score\n",
    "\n",
    "Prediction = Logit_Model.predict(X_test)\n",
    "Score = accuracy_score(y_test,Prediction)\n",
    "Report = classification_report(y_test,Prediction)"
   ]
  },
  {
   "cell_type": "code",
   "execution_count": 106,
   "id": "70a78b63",
   "metadata": {},
   "outputs": [
    {
     "name": "stdout",
     "output_type": "stream",
     "text": [
      "Accuracy Of Model:  0.7291666666666666\n"
     ]
    }
   ],
   "source": [
    "print('Accuracy Of Model: ', Score)"
   ]
  },
  {
   "cell_type": "code",
   "execution_count": 107,
   "id": "604d95a0",
   "metadata": {
    "scrolled": true
   },
   "outputs": [
    {
     "name": "stdout",
     "output_type": "stream",
     "text": [
      "              precision    recall  f1-score   support\n",
      "\n",
      "           0       0.82      0.90      0.86        30\n",
      "           1       0.75      0.70      0.73        74\n",
      "           2       0.62      0.65      0.63        40\n",
      "\n",
      "    accuracy                           0.73       144\n",
      "   macro avg       0.73      0.75      0.74       144\n",
      "weighted avg       0.73      0.73      0.73       144\n",
      "\n"
     ]
    }
   ],
   "source": [
    "print(Report)"
   ]
  },
  {
   "cell_type": "markdown",
   "id": "7a39ad9d",
   "metadata": {},
   "source": [
    "# Model 2 : Using Newton-CG Solver."
   ]
  },
  {
   "cell_type": "code",
   "execution_count": 108,
   "id": "644fa377",
   "metadata": {
    "scrolled": true
   },
   "outputs": [
    {
     "data": {
      "text/plain": [
       "LogisticRegression(random_state=0, solver='newton-cg')"
      ]
     },
     "execution_count": 108,
     "metadata": {},
     "output_type": "execute_result"
    }
   ],
   "source": [
    "Logit_Model = LogisticRegression(solver = 'newton-cg', random_state=0)\n",
    "Logit_Model.fit(X_train,y_train)"
   ]
  },
  {
   "cell_type": "code",
   "execution_count": 109,
   "id": "80b519ad",
   "metadata": {},
   "outputs": [],
   "source": [
    "Prediction = Logit_Model.predict(X_test)\n",
    "Score = accuracy_score(y_test,Prediction)\n",
    "Report = classification_report(y_test,Prediction)"
   ]
  },
  {
   "cell_type": "code",
   "execution_count": 110,
   "id": "4db45821",
   "metadata": {
    "scrolled": true
   },
   "outputs": [
    {
     "name": "stdout",
     "output_type": "stream",
     "text": [
      "Accuracy Of Model:  0.7291666666666666\n"
     ]
    }
   ],
   "source": [
    "print('Accuracy Of Model: ', Score)"
   ]
  },
  {
   "cell_type": "code",
   "execution_count": 111,
   "id": "8139920e",
   "metadata": {
    "scrolled": true
   },
   "outputs": [
    {
     "name": "stdout",
     "output_type": "stream",
     "text": [
      "              precision    recall  f1-score   support\n",
      "\n",
      "           0       0.82      0.90      0.86        30\n",
      "           1       0.75      0.70      0.73        74\n",
      "           2       0.62      0.65      0.63        40\n",
      "\n",
      "    accuracy                           0.73       144\n",
      "   macro avg       0.73      0.75      0.74       144\n",
      "weighted avg       0.73      0.73      0.73       144\n",
      "\n"
     ]
    }
   ],
   "source": [
    "print(Report)"
   ]
  },
  {
   "cell_type": "markdown",
   "id": "3ebe423e",
   "metadata": {},
   "source": [
    "# Model 3 : Using Saag Solver"
   ]
  },
  {
   "cell_type": "code",
   "execution_count": 112,
   "id": "74cebd24",
   "metadata": {},
   "outputs": [
    {
     "data": {
      "text/plain": [
       "LogisticRegression(random_state=0, solver='sag')"
      ]
     },
     "execution_count": 112,
     "metadata": {},
     "output_type": "execute_result"
    }
   ],
   "source": [
    "Logit_Model = LogisticRegression(solver = 'sag', random_state=0)\n",
    "Logit_Model.fit(X_train,y_train)"
   ]
  },
  {
   "cell_type": "code",
   "execution_count": 113,
   "id": "88089b67",
   "metadata": {},
   "outputs": [],
   "source": [
    "Prediction = Logit_Model.predict(X_test)\n",
    "Score = accuracy_score(y_test,Prediction)\n",
    "Report = classification_report(y_test,Prediction)"
   ]
  },
  {
   "cell_type": "code",
   "execution_count": 114,
   "id": "f350d36c",
   "metadata": {
    "scrolled": true
   },
   "outputs": [
    {
     "name": "stdout",
     "output_type": "stream",
     "text": [
      "Accuracy Of Model:  0.7291666666666666\n"
     ]
    }
   ],
   "source": [
    "print('Accuracy Of Model: ', Score)"
   ]
  },
  {
   "cell_type": "code",
   "execution_count": 115,
   "id": "15554185",
   "metadata": {},
   "outputs": [
    {
     "name": "stdout",
     "output_type": "stream",
     "text": [
      "              precision    recall  f1-score   support\n",
      "\n",
      "           0       0.82      0.90      0.86        30\n",
      "           1       0.75      0.70      0.73        74\n",
      "           2       0.62      0.65      0.63        40\n",
      "\n",
      "    accuracy                           0.73       144\n",
      "   macro avg       0.73      0.75      0.74       144\n",
      "weighted avg       0.73      0.73      0.73       144\n",
      "\n"
     ]
    }
   ],
   "source": [
    "print(Report)"
   ]
  },
  {
   "cell_type": "markdown",
   "id": "1c29f6a0",
   "metadata": {},
   "source": [
    "## Model 5"
   ]
  },
  {
   "cell_type": "code",
   "execution_count": 117,
   "id": "b6cacf5d",
   "metadata": {},
   "outputs": [],
   "source": [
    "df.drop(columns=['Topic'], axis=1,inplace=True)"
   ]
  },
  {
   "cell_type": "code",
   "execution_count": 118,
   "id": "4f9210f3",
   "metadata": {},
   "outputs": [
    {
     "data": {
      "text/plain": [
       "StandardScaler()"
      ]
     },
     "execution_count": 118,
     "metadata": {},
     "output_type": "execute_result"
    }
   ],
   "source": [
    "from sklearn.preprocessing import StandardScaler\n",
    "\n",
    "scaler = StandardScaler()\n",
    "scaler.fit(Features)\n"
   ]
  },
  {
   "cell_type": "code",
   "execution_count": 119,
   "id": "134c5a27",
   "metadata": {},
   "outputs": [],
   "source": [
    "X = scaler.fit_transform(Features)"
   ]
  },
  {
   "cell_type": "code",
   "execution_count": 121,
   "id": "7eb0321f",
   "metadata": {},
   "outputs": [],
   "source": [
    "X_train, X_test, y_train, y_test = train_test_split(X, Target, test_size=0.3, random_state=0)\n"
   ]
  },
  {
   "cell_type": "code",
   "execution_count": 122,
   "id": "0f957903",
   "metadata": {
    "scrolled": true
   },
   "outputs": [
    {
     "data": {
      "text/plain": [
       "LogisticRegression()"
      ]
     },
     "execution_count": 122,
     "metadata": {},
     "output_type": "execute_result"
    }
   ],
   "source": [
    "Logit_Model = LogisticRegression()\n",
    "Logit_Model.fit(X_train,y_train)"
   ]
  },
  {
   "cell_type": "code",
   "execution_count": 123,
   "id": "4dae03a0",
   "metadata": {},
   "outputs": [],
   "source": [
    "from sklearn.metrics import classification_report, accuracy_score\n",
    "\n",
    "Prediction = Logit_Model.predict(X_test)\n",
    "Score = accuracy_score(y_test,Prediction)\n",
    "Report = classification_report(y_test,Prediction)"
   ]
  },
  {
   "cell_type": "code",
   "execution_count": 124,
   "id": "14308854",
   "metadata": {
    "scrolled": true
   },
   "outputs": [
    {
     "name": "stdout",
     "output_type": "stream",
     "text": [
      "Accuracy Of Model:  0.7847222222222222\n"
     ]
    }
   ],
   "source": [
    "print('Accuracy Of Model: ', Score)"
   ]
  },
  {
   "cell_type": "code",
   "execution_count": 125,
   "id": "a1b52ba5",
   "metadata": {},
   "outputs": [
    {
     "name": "stdout",
     "output_type": "stream",
     "text": [
      "              precision    recall  f1-score   support\n",
      "\n",
      "           0       0.84      0.94      0.89        34\n",
      "           1       0.79      0.77      0.78        71\n",
      "           2       0.72      0.67      0.69        39\n",
      "\n",
      "    accuracy                           0.78       144\n",
      "   macro avg       0.78      0.79      0.79       144\n",
      "weighted avg       0.78      0.78      0.78       144\n",
      "\n"
     ]
    }
   ],
   "source": [
    "print(Report)"
   ]
  }
 ],
 "metadata": {
  "kernelspec": {
   "display_name": "Python 3 (ipykernel)",
   "language": "python",
   "name": "python3"
  },
  "language_info": {
   "codemirror_mode": {
    "name": "ipython",
    "version": 3
   },
   "file_extension": ".py",
   "mimetype": "text/x-python",
   "name": "python",
   "nbconvert_exporter": "python",
   "pygments_lexer": "ipython3",
   "version": "3.9.7"
  }
 },
 "nbformat": 4,
 "nbformat_minor": 5
}
